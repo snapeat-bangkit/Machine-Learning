{
  "cells": [
    {
      "cell_type": "markdown",
      "source": [
        "# Install Library"
      ],
      "metadata": {
        "id": "8KbQFdBohAse"
      }
    },
    {
      "cell_type": "code",
      "execution_count": null,
      "metadata": {
        "colab": {
          "base_uri": "https://localhost:8080/"
        },
        "id": "q2HJpXXx1Eb6",
        "outputId": "df6f403b-ab88-4663-a245-9f9c5a2dac2a"
      },
      "outputs": [
        {
          "output_type": "stream",
          "name": "stdout",
          "text": [
            "Requirement already satisfied: googletrans in /usr/local/lib/python3.10/dist-packages (3.0.0)\n",
            "Requirement already satisfied: httpx==0.13.3 in /usr/local/lib/python3.10/dist-packages (from googletrans) (0.13.3)\n",
            "Requirement already satisfied: certifi in /usr/local/lib/python3.10/dist-packages (from httpx==0.13.3->googletrans) (2024.6.2)\n",
            "Requirement already satisfied: hstspreload in /usr/local/lib/python3.10/dist-packages (from httpx==0.13.3->googletrans) (2024.6.1)\n",
            "Requirement already satisfied: sniffio in /usr/local/lib/python3.10/dist-packages (from httpx==0.13.3->googletrans) (1.3.1)\n",
            "Requirement already satisfied: chardet==3.* in /usr/local/lib/python3.10/dist-packages (from httpx==0.13.3->googletrans) (3.0.4)\n",
            "Requirement already satisfied: idna==2.* in /usr/local/lib/python3.10/dist-packages (from httpx==0.13.3->googletrans) (2.10)\n",
            "Requirement already satisfied: rfc3986<2,>=1.3 in /usr/local/lib/python3.10/dist-packages (from httpx==0.13.3->googletrans) (1.5.0)\n",
            "Requirement already satisfied: httpcore==0.9.* in /usr/local/lib/python3.10/dist-packages (from httpx==0.13.3->googletrans) (0.9.1)\n",
            "Requirement already satisfied: h11<0.10,>=0.8 in /usr/local/lib/python3.10/dist-packages (from httpcore==0.9.*->httpx==0.13.3->googletrans) (0.9.0)\n",
            "Requirement already satisfied: h2==3.* in /usr/local/lib/python3.10/dist-packages (from httpcore==0.9.*->httpx==0.13.3->googletrans) (3.2.0)\n",
            "Requirement already satisfied: hyperframe<6,>=5.2.0 in /usr/local/lib/python3.10/dist-packages (from h2==3.*->httpcore==0.9.*->httpx==0.13.3->googletrans) (5.2.0)\n",
            "Requirement already satisfied: hpack<4,>=3.0 in /usr/local/lib/python3.10/dist-packages (from h2==3.*->httpcore==0.9.*->httpx==0.13.3->googletrans) (3.0.0)\n",
            "Requirement already satisfied: tensorflowjs in /usr/local/lib/python3.10/dist-packages (4.20.0)\n",
            "Requirement already satisfied: flax>=0.7.2 in /usr/local/lib/python3.10/dist-packages (from tensorflowjs) (0.8.4)\n",
            "Requirement already satisfied: importlib_resources>=5.9.0 in /usr/local/lib/python3.10/dist-packages (from tensorflowjs) (6.4.0)\n",
            "Requirement already satisfied: jax>=0.4.13 in /usr/local/lib/python3.10/dist-packages (from tensorflowjs) (0.4.26)\n",
            "Requirement already satisfied: jaxlib>=0.4.13 in /usr/local/lib/python3.10/dist-packages (from tensorflowjs) (0.4.26+cuda12.cudnn89)\n",
            "Requirement already satisfied: tensorflow<3,>=2.13.0 in /usr/local/lib/python3.10/dist-packages (from tensorflowjs) (2.16.1)\n",
            "Requirement already satisfied: tf-keras>=2.13.0 in /usr/local/lib/python3.10/dist-packages (from tensorflowjs) (2.16.0)\n",
            "Requirement already satisfied: tensorflow-decision-forests>=1.5.0 in /usr/local/lib/python3.10/dist-packages (from tensorflowjs) (1.9.1)\n",
            "Requirement already satisfied: six<2,>=1.16.0 in /usr/local/lib/python3.10/dist-packages (from tensorflowjs) (1.16.0)\n",
            "Requirement already satisfied: tensorflow-hub>=0.16.1 in /usr/local/lib/python3.10/dist-packages (from tensorflowjs) (0.16.1)\n",
            "Requirement already satisfied: packaging~=23.1 in /usr/local/lib/python3.10/dist-packages (from tensorflowjs) (23.2)\n",
            "Requirement already satisfied: numpy>=1.22 in /usr/local/lib/python3.10/dist-packages (from flax>=0.7.2->tensorflowjs) (1.25.2)\n",
            "Requirement already satisfied: msgpack in /usr/local/lib/python3.10/dist-packages (from flax>=0.7.2->tensorflowjs) (1.0.8)\n",
            "Requirement already satisfied: optax in /usr/local/lib/python3.10/dist-packages (from flax>=0.7.2->tensorflowjs) (0.2.2)\n",
            "Requirement already satisfied: orbax-checkpoint in /usr/local/lib/python3.10/dist-packages (from flax>=0.7.2->tensorflowjs) (0.4.4)\n",
            "Requirement already satisfied: tensorstore in /usr/local/lib/python3.10/dist-packages (from flax>=0.7.2->tensorflowjs) (0.1.45)\n",
            "Requirement already satisfied: rich>=11.1 in /usr/local/lib/python3.10/dist-packages (from flax>=0.7.2->tensorflowjs) (13.7.1)\n",
            "Requirement already satisfied: typing-extensions>=4.2 in /usr/local/lib/python3.10/dist-packages (from flax>=0.7.2->tensorflowjs) (4.12.2)\n",
            "Requirement already satisfied: PyYAML>=5.4.1 in /usr/local/lib/python3.10/dist-packages (from flax>=0.7.2->tensorflowjs) (6.0.1)\n",
            "Requirement already satisfied: ml-dtypes>=0.2.0 in /usr/local/lib/python3.10/dist-packages (from jax>=0.4.13->tensorflowjs) (0.3.2)\n",
            "Requirement already satisfied: opt-einsum in /usr/local/lib/python3.10/dist-packages (from jax>=0.4.13->tensorflowjs) (3.3.0)\n",
            "Requirement already satisfied: scipy>=1.9 in /usr/local/lib/python3.10/dist-packages (from jax>=0.4.13->tensorflowjs) (1.11.4)\n",
            "Requirement already satisfied: absl-py>=1.0.0 in /usr/local/lib/python3.10/dist-packages (from tensorflow<3,>=2.13.0->tensorflowjs) (1.4.0)\n",
            "Requirement already satisfied: astunparse>=1.6.0 in /usr/local/lib/python3.10/dist-packages (from tensorflow<3,>=2.13.0->tensorflowjs) (1.6.3)\n",
            "Requirement already satisfied: flatbuffers>=23.5.26 in /usr/local/lib/python3.10/dist-packages (from tensorflow<3,>=2.13.0->tensorflowjs) (24.3.25)\n",
            "Requirement already satisfied: gast!=0.5.0,!=0.5.1,!=0.5.2,>=0.2.1 in /usr/local/lib/python3.10/dist-packages (from tensorflow<3,>=2.13.0->tensorflowjs) (0.5.4)\n",
            "Requirement already satisfied: google-pasta>=0.1.1 in /usr/local/lib/python3.10/dist-packages (from tensorflow<3,>=2.13.0->tensorflowjs) (0.2.0)\n",
            "Requirement already satisfied: h5py>=3.10.0 in /usr/local/lib/python3.10/dist-packages (from tensorflow<3,>=2.13.0->tensorflowjs) (3.11.0)\n",
            "Requirement already satisfied: libclang>=13.0.0 in /usr/local/lib/python3.10/dist-packages (from tensorflow<3,>=2.13.0->tensorflowjs) (18.1.1)\n",
            "Requirement already satisfied: protobuf!=4.21.0,!=4.21.1,!=4.21.2,!=4.21.3,!=4.21.4,!=4.21.5,<5.0.0dev,>=3.20.3 in /usr/local/lib/python3.10/dist-packages (from tensorflow<3,>=2.13.0->tensorflowjs) (3.20.3)\n",
            "Requirement already satisfied: requests<3,>=2.21.0 in /usr/local/lib/python3.10/dist-packages (from tensorflow<3,>=2.13.0->tensorflowjs) (2.31.0)\n",
            "Requirement already satisfied: setuptools in /usr/local/lib/python3.10/dist-packages (from tensorflow<3,>=2.13.0->tensorflowjs) (67.7.2)\n",
            "Requirement already satisfied: termcolor>=1.1.0 in /usr/local/lib/python3.10/dist-packages (from tensorflow<3,>=2.13.0->tensorflowjs) (2.4.0)\n",
            "Requirement already satisfied: wrapt>=1.11.0 in /usr/local/lib/python3.10/dist-packages (from tensorflow<3,>=2.13.0->tensorflowjs) (1.14.1)\n",
            "Requirement already satisfied: grpcio<2.0,>=1.24.3 in /usr/local/lib/python3.10/dist-packages (from tensorflow<3,>=2.13.0->tensorflowjs) (1.64.1)\n",
            "Requirement already satisfied: tensorboard<2.17,>=2.16 in /usr/local/lib/python3.10/dist-packages (from tensorflow<3,>=2.13.0->tensorflowjs) (2.16.2)\n",
            "Requirement already satisfied: keras>=3.0.0 in /usr/local/lib/python3.10/dist-packages (from tensorflow<3,>=2.13.0->tensorflowjs) (3.3.3)\n",
            "Requirement already satisfied: tensorflow-io-gcs-filesystem>=0.23.1 in /usr/local/lib/python3.10/dist-packages (from tensorflow<3,>=2.13.0->tensorflowjs) (0.37.0)\n",
            "Requirement already satisfied: pandas in /usr/local/lib/python3.10/dist-packages (from tensorflow-decision-forests>=1.5.0->tensorflowjs) (2.0.3)\n",
            "Requirement already satisfied: wheel in /usr/local/lib/python3.10/dist-packages (from tensorflow-decision-forests>=1.5.0->tensorflowjs) (0.43.0)\n",
            "Requirement already satisfied: wurlitzer in /usr/local/lib/python3.10/dist-packages (from tensorflow-decision-forests>=1.5.0->tensorflowjs) (3.1.1)\n",
            "Requirement already satisfied: ydf in /usr/local/lib/python3.10/dist-packages (from tensorflow-decision-forests>=1.5.0->tensorflowjs) (0.4.3)\n",
            "Requirement already satisfied: namex in /usr/local/lib/python3.10/dist-packages (from keras>=3.0.0->tensorflow<3,>=2.13.0->tensorflowjs) (0.0.8)\n",
            "Requirement already satisfied: optree in /usr/local/lib/python3.10/dist-packages (from keras>=3.0.0->tensorflow<3,>=2.13.0->tensorflowjs) (0.11.0)\n",
            "Requirement already satisfied: charset-normalizer<4,>=2 in /usr/local/lib/python3.10/dist-packages (from requests<3,>=2.21.0->tensorflow<3,>=2.13.0->tensorflowjs) (3.3.2)\n",
            "Requirement already satisfied: idna<4,>=2.5 in /usr/local/lib/python3.10/dist-packages (from requests<3,>=2.21.0->tensorflow<3,>=2.13.0->tensorflowjs) (2.10)\n",
            "Requirement already satisfied: urllib3<3,>=1.21.1 in /usr/local/lib/python3.10/dist-packages (from requests<3,>=2.21.0->tensorflow<3,>=2.13.0->tensorflowjs) (2.0.7)\n",
            "Requirement already satisfied: certifi>=2017.4.17 in /usr/local/lib/python3.10/dist-packages (from requests<3,>=2.21.0->tensorflow<3,>=2.13.0->tensorflowjs) (2024.6.2)\n",
            "Requirement already satisfied: markdown-it-py>=2.2.0 in /usr/local/lib/python3.10/dist-packages (from rich>=11.1->flax>=0.7.2->tensorflowjs) (3.0.0)\n",
            "Requirement already satisfied: pygments<3.0.0,>=2.13.0 in /usr/local/lib/python3.10/dist-packages (from rich>=11.1->flax>=0.7.2->tensorflowjs) (2.16.1)\n",
            "Requirement already satisfied: markdown>=2.6.8 in /usr/local/lib/python3.10/dist-packages (from tensorboard<2.17,>=2.16->tensorflow<3,>=2.13.0->tensorflowjs) (3.6)\n",
            "Requirement already satisfied: tensorboard-data-server<0.8.0,>=0.7.0 in /usr/local/lib/python3.10/dist-packages (from tensorboard<2.17,>=2.16->tensorflow<3,>=2.13.0->tensorflowjs) (0.7.2)\n",
            "Requirement already satisfied: werkzeug>=1.0.1 in /usr/local/lib/python3.10/dist-packages (from tensorboard<2.17,>=2.16->tensorflow<3,>=2.13.0->tensorflowjs) (3.0.3)\n",
            "Requirement already satisfied: chex>=0.1.86 in /usr/local/lib/python3.10/dist-packages (from optax->flax>=0.7.2->tensorflowjs) (0.1.86)\n",
            "Requirement already satisfied: etils[epath,epy] in /usr/local/lib/python3.10/dist-packages (from orbax-checkpoint->flax>=0.7.2->tensorflowjs) (1.7.0)\n",
            "Requirement already satisfied: nest_asyncio in /usr/local/lib/python3.10/dist-packages (from orbax-checkpoint->flax>=0.7.2->tensorflowjs) (1.6.0)\n",
            "Requirement already satisfied: python-dateutil>=2.8.2 in /usr/local/lib/python3.10/dist-packages (from pandas->tensorflow-decision-forests>=1.5.0->tensorflowjs) (2.8.2)\n",
            "Requirement already satisfied: pytz>=2020.1 in /usr/local/lib/python3.10/dist-packages (from pandas->tensorflow-decision-forests>=1.5.0->tensorflowjs) (2023.4)\n",
            "Requirement already satisfied: tzdata>=2022.1 in /usr/local/lib/python3.10/dist-packages (from pandas->tensorflow-decision-forests>=1.5.0->tensorflowjs) (2024.1)\n",
            "Requirement already satisfied: toolz>=0.9.0 in /usr/local/lib/python3.10/dist-packages (from chex>=0.1.86->optax->flax>=0.7.2->tensorflowjs) (0.12.1)\n",
            "Requirement already satisfied: mdurl~=0.1 in /usr/local/lib/python3.10/dist-packages (from markdown-it-py>=2.2.0->rich>=11.1->flax>=0.7.2->tensorflowjs) (0.1.2)\n",
            "Requirement already satisfied: MarkupSafe>=2.1.1 in /usr/local/lib/python3.10/dist-packages (from werkzeug>=1.0.1->tensorboard<2.17,>=2.16->tensorflow<3,>=2.13.0->tensorflowjs) (2.1.5)\n",
            "Requirement already satisfied: fsspec in /usr/local/lib/python3.10/dist-packages (from etils[epath,epy]->orbax-checkpoint->flax>=0.7.2->tensorflowjs) (2023.6.0)\n",
            "Requirement already satisfied: zipp in /usr/local/lib/python3.10/dist-packages (from etils[epath,epy]->orbax-checkpoint->flax>=0.7.2->tensorflowjs) (3.19.2)\n"
          ]
        }
      ],
      "source": [
        "!pip install googletrans\n",
        "!pip install tensorflowjs\n",
        "\n",
        "import pandas as pd\n",
        "import numpy as np\n",
        "import matplotlib.pyplot as plt\n",
        "import seaborn as sns\n",
        "from sklearn.feature_extraction.text import TfidfVectorizer\n",
        "from sklearn.metrics.pairwise import cosine_similarity\n",
        "import tensorflow as tf\n",
        "from tensorflow import keras\n",
        "from keras import layers\n",
        "from tensorflow.keras.preprocessing.text import Tokenizer\n",
        "from tensorflow.keras.preprocessing.sequence import pad_sequences\n",
        "from sklearn.metrics import mean_squared_error\n",
        "from sklearn.model_selection import train_test_split\n",
        "from keras.layers import Input, Embedding, Flatten, Dot, Dense, Concatenate\n",
        "from keras.models import Model\n",
        "import matplotlib.pyplot as plt\n",
        "from googletrans import Translator"
      ]
    },
    {
      "cell_type": "markdown",
      "source": [
        "# Load Data"
      ],
      "metadata": {
        "id": "0nHvqlh6hesV"
      }
    },
    {
      "cell_type": "code",
      "execution_count": null,
      "metadata": {
        "id": "AY35NvzuZg5l",
        "colab": {
          "base_uri": "https://localhost:8080/",
          "height": 808
        },
        "outputId": "98a45298-c160-4008-8657-98cb70ea1416"
      },
      "outputs": [
        {
          "output_type": "execute_result",
          "data": {
            "text/plain": [
              "     user_id                     place_id             place_name  \\\n",
              "0          4  ChIJTwTtG9P1aS4RTBuC8A4MTBA      Paulaner Brauhaus   \n",
              "1         21  ChIJTwTtG9P1aS4RTBuC8A4MTBA      Paulaner Brauhaus   \n",
              "2          1  ChIJTwTtG9P1aS4RTBuC8A4MTBA      Paulaner Brauhaus   \n",
              "3         28  ChIJTwTtG9P1aS4RTBuC8A4MTBA      Paulaner Brauhaus   \n",
              "4         49  ChIJTwTtG9P1aS4RTBuC8A4MTBA      Paulaner Brauhaus   \n",
              "..       ...                          ...                    ...   \n",
              "875       15  ChIJkayuSl31aS4RoCogGjqbz9g  The Courtyard Jakarta   \n",
              "876       36  ChIJkayuSl31aS4RoCogGjqbz9g  The Courtyard Jakarta   \n",
              "877       39  ChIJkayuSl31aS4RoCogGjqbz9g  The Courtyard Jakarta   \n",
              "878       33  ChIJkayuSl31aS4RoCogGjqbz9g  The Courtyard Jakarta   \n",
              "879       14  ChIJkayuSl31aS4RoCogGjqbz9g  The Courtyard Jakarta   \n",
              "\n",
              "                                review_id  rating  \\\n",
              "0     ChZDSUhNMG9nS0VJQ0FnSUQ5amRpMEhBEAE       5   \n",
              "1     ChZDSUhNMG9nS0VJQ0FnSUN6M3NMc1hnEAE       5   \n",
              "2    ChdDSUhNMG9nS0VJQ0FnSUNkLUw2MHJRRRAB       5   \n",
              "3     ChZDSUhNMG9nS0VJQ0FnSUNkLWNxb0JBEAE       5   \n",
              "4     ChZDSUhNMG9nS0VJQ0FnSUMxMUtPSFh3EAE       4   \n",
              "..                                    ...     ...   \n",
              "875  ChdDSUhNMG9nS0VJQ0FnSUNseUlqVWtRRRAB       5   \n",
              "876   ChZDSUhNMG9nS0VJQ0FnSUNscS1Td1VBEAE       5   \n",
              "877  ChdDSUhNMG9nS0VJQ0FnSUNpNGZ6UmhnRRAB       5   \n",
              "878  ChdDSUhNMG9nS0VJQ0FnSUQ1MnE3S3d3RRAB       5   \n",
              "879  ChdDSUhNMG9nS0VJQ0FnSUNsb2JITHFnRRAB       5   \n",
              "\n",
              "                                           review_text  review_likes_count  \\\n",
              "0    Banyak pilihan beer dikasih tester dulu 3 mcm,...                   1   \n",
              "1    Nyaman deh tempatnya pelayananya juga memuaska...                   0   \n",
              "2    Ini kedua kalinya datang kesini. Buat yang mau...                   0   \n",
              "3    Letak nya di GI east mall. Harga cukup mahal. ...                   0   \n",
              "4    Harga makanan di 100rb+\\r\\nMinuman di 50rbuan....                   4   \n",
              "..                                                 ...                 ...   \n",
              "875  Tempat yang unik dan nyaman skali, makanannya ...                   0   \n",
              "876                                    Tempatnya bagus                   0   \n",
              "877  Wowww place in Jakarta... enakk banget meeting...                   0   \n",
              "878                                   Halamannya sejuk                   0   \n",
              "879                                               Enak                   0   \n",
              "\n",
              "     total_number_of_reviews_by_reviewer  total_number_of_photos_by_reviewer  \\\n",
              "0                                    269                                1347   \n",
              "1                                      8                                   7   \n",
              "2                                     21                                  28   \n",
              "3                                    120                                 591   \n",
              "4                                    817                               12396   \n",
              "..                                   ...                                 ...   \n",
              "875                                    7                                   0   \n",
              "876                                    6                                   4   \n",
              "877                                  646                                 606   \n",
              "878                                    3                                   2   \n",
              "879                                    8                                   2   \n",
              "\n",
              "     is_local_guide                                      review_photos  \\\n",
              "0              True  [\"https://lh5.googleusercontent.com/p/AF1QipNx...   \n",
              "1             False  [\"https://lh5.googleusercontent.com/p/AF1QipOM...   \n",
              "2              True  [\"https://lh5.googleusercontent.com/p/AF1QipO1...   \n",
              "3              True  [\"https://lh5.googleusercontent.com/p/AF1QipOA...   \n",
              "4              True  [\"https://lh5.googleusercontent.com/p/AF1QipMP...   \n",
              "..              ...                                                ...   \n",
              "875           False                                                 []   \n",
              "876            True                                                 []   \n",
              "877            True                                                 []   \n",
              "878           False                                                 []   \n",
              "879            True                                                 []   \n",
              "\n",
              "                   categories  \\\n",
              "0    Restoran Jerman, Brewpub   \n",
              "1    Restoran Jerman, Brewpub   \n",
              "2    Restoran Jerman, Brewpub   \n",
              "3    Restoran Jerman, Brewpub   \n",
              "4    Restoran Jerman, Brewpub   \n",
              "..                        ...   \n",
              "875                  Restoran   \n",
              "876                  Restoran   \n",
              "877                  Restoran   \n",
              "878                  Restoran   \n",
              "879                  Restoran   \n",
              "\n",
              "                                                  link  \n",
              "0    https://www.google.com/maps/place/Paulaner+Br%...  \n",
              "1    https://www.google.com/maps/place/Paulaner+Br%...  \n",
              "2    https://www.google.com/maps/place/Paulaner+Br%...  \n",
              "3    https://www.google.com/maps/place/Paulaner+Br%...  \n",
              "4    https://www.google.com/maps/place/Paulaner+Br%...  \n",
              "..                                                 ...  \n",
              "875  https://www.google.com/maps/place/The+Courtyar...  \n",
              "876  https://www.google.com/maps/place/The+Courtyar...  \n",
              "877  https://www.google.com/maps/place/The+Courtyar...  \n",
              "878  https://www.google.com/maps/place/The+Courtyar...  \n",
              "879  https://www.google.com/maps/place/The+Courtyar...  \n",
              "\n",
              "[880 rows x 13 columns]"
            ],
            "text/html": [
              "\n",
              "  <div id=\"df-12021354-6428-4afc-8581-74b04c6cb01f\" class=\"colab-df-container\">\n",
              "    <div>\n",
              "<style scoped>\n",
              "    .dataframe tbody tr th:only-of-type {\n",
              "        vertical-align: middle;\n",
              "    }\n",
              "\n",
              "    .dataframe tbody tr th {\n",
              "        vertical-align: top;\n",
              "    }\n",
              "\n",
              "    .dataframe thead th {\n",
              "        text-align: right;\n",
              "    }\n",
              "</style>\n",
              "<table border=\"1\" class=\"dataframe\">\n",
              "  <thead>\n",
              "    <tr style=\"text-align: right;\">\n",
              "      <th></th>\n",
              "      <th>user_id</th>\n",
              "      <th>place_id</th>\n",
              "      <th>place_name</th>\n",
              "      <th>review_id</th>\n",
              "      <th>rating</th>\n",
              "      <th>review_text</th>\n",
              "      <th>review_likes_count</th>\n",
              "      <th>total_number_of_reviews_by_reviewer</th>\n",
              "      <th>total_number_of_photos_by_reviewer</th>\n",
              "      <th>is_local_guide</th>\n",
              "      <th>review_photos</th>\n",
              "      <th>categories</th>\n",
              "      <th>link</th>\n",
              "    </tr>\n",
              "  </thead>\n",
              "  <tbody>\n",
              "    <tr>\n",
              "      <th>0</th>\n",
              "      <td>4</td>\n",
              "      <td>ChIJTwTtG9P1aS4RTBuC8A4MTBA</td>\n",
              "      <td>Paulaner Brauhaus</td>\n",
              "      <td>ChZDSUhNMG9nS0VJQ0FnSUQ5amRpMEhBEAE</td>\n",
              "      <td>5</td>\n",
              "      <td>Banyak pilihan beer dikasih tester dulu 3 mcm,...</td>\n",
              "      <td>1</td>\n",
              "      <td>269</td>\n",
              "      <td>1347</td>\n",
              "      <td>True</td>\n",
              "      <td>[\"https://lh5.googleusercontent.com/p/AF1QipNx...</td>\n",
              "      <td>Restoran Jerman, Brewpub</td>\n",
              "      <td>https://www.google.com/maps/place/Paulaner+Br%...</td>\n",
              "    </tr>\n",
              "    <tr>\n",
              "      <th>1</th>\n",
              "      <td>21</td>\n",
              "      <td>ChIJTwTtG9P1aS4RTBuC8A4MTBA</td>\n",
              "      <td>Paulaner Brauhaus</td>\n",
              "      <td>ChZDSUhNMG9nS0VJQ0FnSUN6M3NMc1hnEAE</td>\n",
              "      <td>5</td>\n",
              "      <td>Nyaman deh tempatnya pelayananya juga memuaska...</td>\n",
              "      <td>0</td>\n",
              "      <td>8</td>\n",
              "      <td>7</td>\n",
              "      <td>False</td>\n",
              "      <td>[\"https://lh5.googleusercontent.com/p/AF1QipOM...</td>\n",
              "      <td>Restoran Jerman, Brewpub</td>\n",
              "      <td>https://www.google.com/maps/place/Paulaner+Br%...</td>\n",
              "    </tr>\n",
              "    <tr>\n",
              "      <th>2</th>\n",
              "      <td>1</td>\n",
              "      <td>ChIJTwTtG9P1aS4RTBuC8A4MTBA</td>\n",
              "      <td>Paulaner Brauhaus</td>\n",
              "      <td>ChdDSUhNMG9nS0VJQ0FnSUNkLUw2MHJRRRAB</td>\n",
              "      <td>5</td>\n",
              "      <td>Ini kedua kalinya datang kesini. Buat yang mau...</td>\n",
              "      <td>0</td>\n",
              "      <td>21</td>\n",
              "      <td>28</td>\n",
              "      <td>True</td>\n",
              "      <td>[\"https://lh5.googleusercontent.com/p/AF1QipO1...</td>\n",
              "      <td>Restoran Jerman, Brewpub</td>\n",
              "      <td>https://www.google.com/maps/place/Paulaner+Br%...</td>\n",
              "    </tr>\n",
              "    <tr>\n",
              "      <th>3</th>\n",
              "      <td>28</td>\n",
              "      <td>ChIJTwTtG9P1aS4RTBuC8A4MTBA</td>\n",
              "      <td>Paulaner Brauhaus</td>\n",
              "      <td>ChZDSUhNMG9nS0VJQ0FnSUNkLWNxb0JBEAE</td>\n",
              "      <td>5</td>\n",
              "      <td>Letak nya di GI east mall. Harga cukup mahal. ...</td>\n",
              "      <td>0</td>\n",
              "      <td>120</td>\n",
              "      <td>591</td>\n",
              "      <td>True</td>\n",
              "      <td>[\"https://lh5.googleusercontent.com/p/AF1QipOA...</td>\n",
              "      <td>Restoran Jerman, Brewpub</td>\n",
              "      <td>https://www.google.com/maps/place/Paulaner+Br%...</td>\n",
              "    </tr>\n",
              "    <tr>\n",
              "      <th>4</th>\n",
              "      <td>49</td>\n",
              "      <td>ChIJTwTtG9P1aS4RTBuC8A4MTBA</td>\n",
              "      <td>Paulaner Brauhaus</td>\n",
              "      <td>ChZDSUhNMG9nS0VJQ0FnSUMxMUtPSFh3EAE</td>\n",
              "      <td>4</td>\n",
              "      <td>Harga makanan di 100rb+\\r\\nMinuman di 50rbuan....</td>\n",
              "      <td>4</td>\n",
              "      <td>817</td>\n",
              "      <td>12396</td>\n",
              "      <td>True</td>\n",
              "      <td>[\"https://lh5.googleusercontent.com/p/AF1QipMP...</td>\n",
              "      <td>Restoran Jerman, Brewpub</td>\n",
              "      <td>https://www.google.com/maps/place/Paulaner+Br%...</td>\n",
              "    </tr>\n",
              "    <tr>\n",
              "      <th>...</th>\n",
              "      <td>...</td>\n",
              "      <td>...</td>\n",
              "      <td>...</td>\n",
              "      <td>...</td>\n",
              "      <td>...</td>\n",
              "      <td>...</td>\n",
              "      <td>...</td>\n",
              "      <td>...</td>\n",
              "      <td>...</td>\n",
              "      <td>...</td>\n",
              "      <td>...</td>\n",
              "      <td>...</td>\n",
              "      <td>...</td>\n",
              "    </tr>\n",
              "    <tr>\n",
              "      <th>875</th>\n",
              "      <td>15</td>\n",
              "      <td>ChIJkayuSl31aS4RoCogGjqbz9g</td>\n",
              "      <td>The Courtyard Jakarta</td>\n",
              "      <td>ChdDSUhNMG9nS0VJQ0FnSUNseUlqVWtRRRAB</td>\n",
              "      <td>5</td>\n",
              "      <td>Tempat yang unik dan nyaman skali, makanannya ...</td>\n",
              "      <td>0</td>\n",
              "      <td>7</td>\n",
              "      <td>0</td>\n",
              "      <td>False</td>\n",
              "      <td>[]</td>\n",
              "      <td>Restoran</td>\n",
              "      <td>https://www.google.com/maps/place/The+Courtyar...</td>\n",
              "    </tr>\n",
              "    <tr>\n",
              "      <th>876</th>\n",
              "      <td>36</td>\n",
              "      <td>ChIJkayuSl31aS4RoCogGjqbz9g</td>\n",
              "      <td>The Courtyard Jakarta</td>\n",
              "      <td>ChZDSUhNMG9nS0VJQ0FnSUNscS1Td1VBEAE</td>\n",
              "      <td>5</td>\n",
              "      <td>Tempatnya bagus</td>\n",
              "      <td>0</td>\n",
              "      <td>6</td>\n",
              "      <td>4</td>\n",
              "      <td>True</td>\n",
              "      <td>[]</td>\n",
              "      <td>Restoran</td>\n",
              "      <td>https://www.google.com/maps/place/The+Courtyar...</td>\n",
              "    </tr>\n",
              "    <tr>\n",
              "      <th>877</th>\n",
              "      <td>39</td>\n",
              "      <td>ChIJkayuSl31aS4RoCogGjqbz9g</td>\n",
              "      <td>The Courtyard Jakarta</td>\n",
              "      <td>ChdDSUhNMG9nS0VJQ0FnSUNpNGZ6UmhnRRAB</td>\n",
              "      <td>5</td>\n",
              "      <td>Wowww place in Jakarta... enakk banget meeting...</td>\n",
              "      <td>0</td>\n",
              "      <td>646</td>\n",
              "      <td>606</td>\n",
              "      <td>True</td>\n",
              "      <td>[]</td>\n",
              "      <td>Restoran</td>\n",
              "      <td>https://www.google.com/maps/place/The+Courtyar...</td>\n",
              "    </tr>\n",
              "    <tr>\n",
              "      <th>878</th>\n",
              "      <td>33</td>\n",
              "      <td>ChIJkayuSl31aS4RoCogGjqbz9g</td>\n",
              "      <td>The Courtyard Jakarta</td>\n",
              "      <td>ChdDSUhNMG9nS0VJQ0FnSUQ1MnE3S3d3RRAB</td>\n",
              "      <td>5</td>\n",
              "      <td>Halamannya sejuk</td>\n",
              "      <td>0</td>\n",
              "      <td>3</td>\n",
              "      <td>2</td>\n",
              "      <td>False</td>\n",
              "      <td>[]</td>\n",
              "      <td>Restoran</td>\n",
              "      <td>https://www.google.com/maps/place/The+Courtyar...</td>\n",
              "    </tr>\n",
              "    <tr>\n",
              "      <th>879</th>\n",
              "      <td>14</td>\n",
              "      <td>ChIJkayuSl31aS4RoCogGjqbz9g</td>\n",
              "      <td>The Courtyard Jakarta</td>\n",
              "      <td>ChdDSUhNMG9nS0VJQ0FnSUNsb2JITHFnRRAB</td>\n",
              "      <td>5</td>\n",
              "      <td>Enak</td>\n",
              "      <td>0</td>\n",
              "      <td>8</td>\n",
              "      <td>2</td>\n",
              "      <td>True</td>\n",
              "      <td>[]</td>\n",
              "      <td>Restoran</td>\n",
              "      <td>https://www.google.com/maps/place/The+Courtyar...</td>\n",
              "    </tr>\n",
              "  </tbody>\n",
              "</table>\n",
              "<p>880 rows × 13 columns</p>\n",
              "</div>\n",
              "    <div class=\"colab-df-buttons\">\n",
              "\n",
              "  <div class=\"colab-df-container\">\n",
              "    <button class=\"colab-df-convert\" onclick=\"convertToInteractive('df-12021354-6428-4afc-8581-74b04c6cb01f')\"\n",
              "            title=\"Convert this dataframe to an interactive table.\"\n",
              "            style=\"display:none;\">\n",
              "\n",
              "  <svg xmlns=\"http://www.w3.org/2000/svg\" height=\"24px\" viewBox=\"0 -960 960 960\">\n",
              "    <path d=\"M120-120v-720h720v720H120Zm60-500h600v-160H180v160Zm220 220h160v-160H400v160Zm0 220h160v-160H400v160ZM180-400h160v-160H180v160Zm440 0h160v-160H620v160ZM180-180h160v-160H180v160Zm440 0h160v-160H620v160Z\"/>\n",
              "  </svg>\n",
              "    </button>\n",
              "\n",
              "  <style>\n",
              "    .colab-df-container {\n",
              "      display:flex;\n",
              "      gap: 12px;\n",
              "    }\n",
              "\n",
              "    .colab-df-convert {\n",
              "      background-color: #E8F0FE;\n",
              "      border: none;\n",
              "      border-radius: 50%;\n",
              "      cursor: pointer;\n",
              "      display: none;\n",
              "      fill: #1967D2;\n",
              "      height: 32px;\n",
              "      padding: 0 0 0 0;\n",
              "      width: 32px;\n",
              "    }\n",
              "\n",
              "    .colab-df-convert:hover {\n",
              "      background-color: #E2EBFA;\n",
              "      box-shadow: 0px 1px 2px rgba(60, 64, 67, 0.3), 0px 1px 3px 1px rgba(60, 64, 67, 0.15);\n",
              "      fill: #174EA6;\n",
              "    }\n",
              "\n",
              "    .colab-df-buttons div {\n",
              "      margin-bottom: 4px;\n",
              "    }\n",
              "\n",
              "    [theme=dark] .colab-df-convert {\n",
              "      background-color: #3B4455;\n",
              "      fill: #D2E3FC;\n",
              "    }\n",
              "\n",
              "    [theme=dark] .colab-df-convert:hover {\n",
              "      background-color: #434B5C;\n",
              "      box-shadow: 0px 1px 3px 1px rgba(0, 0, 0, 0.15);\n",
              "      filter: drop-shadow(0px 1px 2px rgba(0, 0, 0, 0.3));\n",
              "      fill: #FFFFFF;\n",
              "    }\n",
              "  </style>\n",
              "\n",
              "    <script>\n",
              "      const buttonEl =\n",
              "        document.querySelector('#df-12021354-6428-4afc-8581-74b04c6cb01f button.colab-df-convert');\n",
              "      buttonEl.style.display =\n",
              "        google.colab.kernel.accessAllowed ? 'block' : 'none';\n",
              "\n",
              "      async function convertToInteractive(key) {\n",
              "        const element = document.querySelector('#df-12021354-6428-4afc-8581-74b04c6cb01f');\n",
              "        const dataTable =\n",
              "          await google.colab.kernel.invokeFunction('convertToInteractive',\n",
              "                                                    [key], {});\n",
              "        if (!dataTable) return;\n",
              "\n",
              "        const docLinkHtml = 'Like what you see? Visit the ' +\n",
              "          '<a target=\"_blank\" href=https://colab.research.google.com/notebooks/data_table.ipynb>data table notebook</a>'\n",
              "          + ' to learn more about interactive tables.';\n",
              "        element.innerHTML = '';\n",
              "        dataTable['output_type'] = 'display_data';\n",
              "        await google.colab.output.renderOutput(dataTable, element);\n",
              "        const docLink = document.createElement('div');\n",
              "        docLink.innerHTML = docLinkHtml;\n",
              "        element.appendChild(docLink);\n",
              "      }\n",
              "    </script>\n",
              "  </div>\n",
              "\n",
              "\n",
              "<div id=\"df-f4836dd5-eb0e-4d4a-8e70-9ee9ac54f1fd\">\n",
              "  <button class=\"colab-df-quickchart\" onclick=\"quickchart('df-f4836dd5-eb0e-4d4a-8e70-9ee9ac54f1fd')\"\n",
              "            title=\"Suggest charts\"\n",
              "            style=\"display:none;\">\n",
              "\n",
              "<svg xmlns=\"http://www.w3.org/2000/svg\" height=\"24px\"viewBox=\"0 0 24 24\"\n",
              "     width=\"24px\">\n",
              "    <g>\n",
              "        <path d=\"M19 3H5c-1.1 0-2 .9-2 2v14c0 1.1.9 2 2 2h14c1.1 0 2-.9 2-2V5c0-1.1-.9-2-2-2zM9 17H7v-7h2v7zm4 0h-2V7h2v10zm4 0h-2v-4h2v4z\"/>\n",
              "    </g>\n",
              "</svg>\n",
              "  </button>\n",
              "\n",
              "<style>\n",
              "  .colab-df-quickchart {\n",
              "      --bg-color: #E8F0FE;\n",
              "      --fill-color: #1967D2;\n",
              "      --hover-bg-color: #E2EBFA;\n",
              "      --hover-fill-color: #174EA6;\n",
              "      --disabled-fill-color: #AAA;\n",
              "      --disabled-bg-color: #DDD;\n",
              "  }\n",
              "\n",
              "  [theme=dark] .colab-df-quickchart {\n",
              "      --bg-color: #3B4455;\n",
              "      --fill-color: #D2E3FC;\n",
              "      --hover-bg-color: #434B5C;\n",
              "      --hover-fill-color: #FFFFFF;\n",
              "      --disabled-bg-color: #3B4455;\n",
              "      --disabled-fill-color: #666;\n",
              "  }\n",
              "\n",
              "  .colab-df-quickchart {\n",
              "    background-color: var(--bg-color);\n",
              "    border: none;\n",
              "    border-radius: 50%;\n",
              "    cursor: pointer;\n",
              "    display: none;\n",
              "    fill: var(--fill-color);\n",
              "    height: 32px;\n",
              "    padding: 0;\n",
              "    width: 32px;\n",
              "  }\n",
              "\n",
              "  .colab-df-quickchart:hover {\n",
              "    background-color: var(--hover-bg-color);\n",
              "    box-shadow: 0 1px 2px rgba(60, 64, 67, 0.3), 0 1px 3px 1px rgba(60, 64, 67, 0.15);\n",
              "    fill: var(--button-hover-fill-color);\n",
              "  }\n",
              "\n",
              "  .colab-df-quickchart-complete:disabled,\n",
              "  .colab-df-quickchart-complete:disabled:hover {\n",
              "    background-color: var(--disabled-bg-color);\n",
              "    fill: var(--disabled-fill-color);\n",
              "    box-shadow: none;\n",
              "  }\n",
              "\n",
              "  .colab-df-spinner {\n",
              "    border: 2px solid var(--fill-color);\n",
              "    border-color: transparent;\n",
              "    border-bottom-color: var(--fill-color);\n",
              "    animation:\n",
              "      spin 1s steps(1) infinite;\n",
              "  }\n",
              "\n",
              "  @keyframes spin {\n",
              "    0% {\n",
              "      border-color: transparent;\n",
              "      border-bottom-color: var(--fill-color);\n",
              "      border-left-color: var(--fill-color);\n",
              "    }\n",
              "    20% {\n",
              "      border-color: transparent;\n",
              "      border-left-color: var(--fill-color);\n",
              "      border-top-color: var(--fill-color);\n",
              "    }\n",
              "    30% {\n",
              "      border-color: transparent;\n",
              "      border-left-color: var(--fill-color);\n",
              "      border-top-color: var(--fill-color);\n",
              "      border-right-color: var(--fill-color);\n",
              "    }\n",
              "    40% {\n",
              "      border-color: transparent;\n",
              "      border-right-color: var(--fill-color);\n",
              "      border-top-color: var(--fill-color);\n",
              "    }\n",
              "    60% {\n",
              "      border-color: transparent;\n",
              "      border-right-color: var(--fill-color);\n",
              "    }\n",
              "    80% {\n",
              "      border-color: transparent;\n",
              "      border-right-color: var(--fill-color);\n",
              "      border-bottom-color: var(--fill-color);\n",
              "    }\n",
              "    90% {\n",
              "      border-color: transparent;\n",
              "      border-bottom-color: var(--fill-color);\n",
              "    }\n",
              "  }\n",
              "</style>\n",
              "\n",
              "  <script>\n",
              "    async function quickchart(key) {\n",
              "      const quickchartButtonEl =\n",
              "        document.querySelector('#' + key + ' button');\n",
              "      quickchartButtonEl.disabled = true;  // To prevent multiple clicks.\n",
              "      quickchartButtonEl.classList.add('colab-df-spinner');\n",
              "      try {\n",
              "        const charts = await google.colab.kernel.invokeFunction(\n",
              "            'suggestCharts', [key], {});\n",
              "      } catch (error) {\n",
              "        console.error('Error during call to suggestCharts:', error);\n",
              "      }\n",
              "      quickchartButtonEl.classList.remove('colab-df-spinner');\n",
              "      quickchartButtonEl.classList.add('colab-df-quickchart-complete');\n",
              "    }\n",
              "    (() => {\n",
              "      let quickchartButtonEl =\n",
              "        document.querySelector('#df-f4836dd5-eb0e-4d4a-8e70-9ee9ac54f1fd button');\n",
              "      quickchartButtonEl.style.display =\n",
              "        google.colab.kernel.accessAllowed ? 'block' : 'none';\n",
              "    })();\n",
              "  </script>\n",
              "</div>\n",
              "\n",
              "  <div id=\"id_4f2fcf5c-c488-4298-a5ec-cc7acbc892f1\">\n",
              "    <style>\n",
              "      .colab-df-generate {\n",
              "        background-color: #E8F0FE;\n",
              "        border: none;\n",
              "        border-radius: 50%;\n",
              "        cursor: pointer;\n",
              "        display: none;\n",
              "        fill: #1967D2;\n",
              "        height: 32px;\n",
              "        padding: 0 0 0 0;\n",
              "        width: 32px;\n",
              "      }\n",
              "\n",
              "      .colab-df-generate:hover {\n",
              "        background-color: #E2EBFA;\n",
              "        box-shadow: 0px 1px 2px rgba(60, 64, 67, 0.3), 0px 1px 3px 1px rgba(60, 64, 67, 0.15);\n",
              "        fill: #174EA6;\n",
              "      }\n",
              "\n",
              "      [theme=dark] .colab-df-generate {\n",
              "        background-color: #3B4455;\n",
              "        fill: #D2E3FC;\n",
              "      }\n",
              "\n",
              "      [theme=dark] .colab-df-generate:hover {\n",
              "        background-color: #434B5C;\n",
              "        box-shadow: 0px 1px 3px 1px rgba(0, 0, 0, 0.15);\n",
              "        filter: drop-shadow(0px 1px 2px rgba(0, 0, 0, 0.3));\n",
              "        fill: #FFFFFF;\n",
              "      }\n",
              "    </style>\n",
              "    <button class=\"colab-df-generate\" onclick=\"generateWithVariable('merged_df')\"\n",
              "            title=\"Generate code using this dataframe.\"\n",
              "            style=\"display:none;\">\n",
              "\n",
              "  <svg xmlns=\"http://www.w3.org/2000/svg\" height=\"24px\"viewBox=\"0 0 24 24\"\n",
              "       width=\"24px\">\n",
              "    <path d=\"M7,19H8.4L18.45,9,17,7.55,7,17.6ZM5,21V16.75L18.45,3.32a2,2,0,0,1,2.83,0l1.4,1.43a1.91,1.91,0,0,1,.58,1.4,1.91,1.91,0,0,1-.58,1.4L9.25,21ZM18.45,9,17,7.55Zm-12,3A5.31,5.31,0,0,0,4.9,8.1,5.31,5.31,0,0,0,1,6.5,5.31,5.31,0,0,0,4.9,4.9,5.31,5.31,0,0,0,6.5,1,5.31,5.31,0,0,0,8.1,4.9,5.31,5.31,0,0,0,12,6.5,5.46,5.46,0,0,0,6.5,12Z\"/>\n",
              "  </svg>\n",
              "    </button>\n",
              "    <script>\n",
              "      (() => {\n",
              "      const buttonEl =\n",
              "        document.querySelector('#id_4f2fcf5c-c488-4298-a5ec-cc7acbc892f1 button.colab-df-generate');\n",
              "      buttonEl.style.display =\n",
              "        google.colab.kernel.accessAllowed ? 'block' : 'none';\n",
              "\n",
              "      buttonEl.onclick = () => {\n",
              "        google.colab.notebook.generateWithVariable('merged_df');\n",
              "      }\n",
              "      })();\n",
              "    </script>\n",
              "  </div>\n",
              "\n",
              "    </div>\n",
              "  </div>\n"
            ],
            "application/vnd.google.colaboratory.intrinsic+json": {
              "type": "dataframe",
              "variable_name": "merged_df",
              "summary": "{\n  \"name\": \"merged_df\",\n  \"rows\": 880,\n  \"fields\": [\n    {\n      \"column\": \"user_id\",\n      \"properties\": {\n        \"dtype\": \"number\",\n        \"std\": 14,\n        \"min\": 1,\n        \"max\": 50,\n        \"num_unique_values\": 50,\n        \"samples\": [\n          48,\n          18,\n          3\n        ],\n        \"semantic_type\": \"\",\n        \"description\": \"\"\n      }\n    },\n    {\n      \"column\": \"place_id\",\n      \"properties\": {\n        \"dtype\": \"category\",\n        \"num_unique_values\": 110,\n        \"samples\": [\n          \"ChIJh8yGUCH0aS4ROWo5zuy04X4\",\n          \"ChIJmS8JUrT2aS4R99BZY-87klI\",\n          \"ChIJTWtJeiH0aS4RY6h3u6ESq9Q\"\n        ],\n        \"semantic_type\": \"\",\n        \"description\": \"\"\n      }\n    },\n    {\n      \"column\": \"place_name\",\n      \"properties\": {\n        \"dtype\": \"category\",\n        \"num_unique_values\": 110,\n        \"samples\": [\n          \"C's Steak and Seafood\",\n          \"The Cafe\",\n          \"Sana Sini Restaurant\"\n        ],\n        \"semantic_type\": \"\",\n        \"description\": \"\"\n      }\n    },\n    {\n      \"column\": \"review_id\",\n      \"properties\": {\n        \"dtype\": \"string\",\n        \"num_unique_values\": 880,\n        \"samples\": [\n          \"ChZDSUhNMG9nS0VJQ0FnSUNZcFBMQ0dnEAE\",\n          \"ChZDSUhNMG9nS0VJQ0FnSURXOHREVGJnEAE\",\n          \"ChZDSUhNMG9nS0VJQ0FnSUR5dDdlZ0hBEAE\"\n        ],\n        \"semantic_type\": \"\",\n        \"description\": \"\"\n      }\n    },\n    {\n      \"column\": \"rating\",\n      \"properties\": {\n        \"dtype\": \"number\",\n        \"std\": 0,\n        \"min\": 1,\n        \"max\": 5,\n        \"num_unique_values\": 5,\n        \"samples\": [\n          4,\n          2,\n          1\n        ],\n        \"semantic_type\": \"\",\n        \"description\": \"\"\n      }\n    },\n    {\n      \"column\": \"review_text\",\n      \"properties\": {\n        \"dtype\": \"string\",\n        \"num_unique_values\": 879,\n        \"samples\": [\n          \"Ini menu namanya kadhai paneer sumpah ini enak banget gak terlalu pedas  terutama bagi yg Vegetarian selain rasanya soft dimulut bisa request jg spicy\\r\\nThe best for Ganesha\",\n          \"Menu makanan yg kami pesan semuanya enak. Salmonnya TOP sedapnya  Porsi makanannya pas kenyangnya di perut kami  Tempatnya enak buat foto keren loh  Pelayanannya ramah. Menjelaskan dgn baik nama menu makanan yg kata anak saya namanya terlalu fancy  dan yg penting membuat kami nyaman makan disini pelayanannya melayani dengan baik tanpa melihat brand yg kami pakai.\",\n          \"lokasinya di east mall lt 3a, luas dan nyaman, pelayanannya juga ramah.\"\n        ],\n        \"semantic_type\": \"\",\n        \"description\": \"\"\n      }\n    },\n    {\n      \"column\": \"review_likes_count\",\n      \"properties\": {\n        \"dtype\": \"number\",\n        \"std\": 1,\n        \"min\": 0,\n        \"max\": 21,\n        \"num_unique_values\": 15,\n        \"samples\": [\n          8,\n          9,\n          1\n        ],\n        \"semantic_type\": \"\",\n        \"description\": \"\"\n      }\n    },\n    {\n      \"column\": \"total_number_of_reviews_by_reviewer\",\n      \"properties\": {\n        \"dtype\": \"number\",\n        \"std\": 214,\n        \"min\": 1,\n        \"max\": 1898,\n        \"num_unique_values\": 318,\n        \"samples\": [\n          62,\n          196,\n          66\n        ],\n        \"semantic_type\": \"\",\n        \"description\": \"\"\n      }\n    },\n    {\n      \"column\": \"total_number_of_photos_by_reviewer\",\n      \"properties\": {\n        \"dtype\": \"number\",\n        \"std\": 1881,\n        \"min\": 0,\n        \"max\": 23060,\n        \"num_unique_values\": 446,\n        \"samples\": [\n          10442,\n          331,\n          876\n        ],\n        \"semantic_type\": \"\",\n        \"description\": \"\"\n      }\n    },\n    {\n      \"column\": \"is_local_guide\",\n      \"properties\": {\n        \"dtype\": \"boolean\",\n        \"num_unique_values\": 2,\n        \"samples\": [\n          false,\n          true\n        ],\n        \"semantic_type\": \"\",\n        \"description\": \"\"\n      }\n    },\n    {\n      \"column\": \"review_photos\",\n      \"properties\": {\n        \"dtype\": \"string\",\n        \"num_unique_values\": 727,\n        \"samples\": [\n          \"[\\\"https://lh5.googleusercontent.com/p/AF1QipPkUNg9UdFSE3dIWwkjB1nl2D78h0AfTEIrB30I=w150-h150-k-no-p\\\", \\\"https://lh5.googleusercontent.com/p/AF1QipPweF0MrbYAPIDRVcIcCIMUlIAzxfYLNEQbGp3U=w150-h150-k-no-p\\\", \\\"https://lh5.googleusercontent.com/p/AF1QipPA1QS_2X-9sxUsDsZwA_tMcXlcv1ukFZyu1D0e=w150-h150-k-no-p\\\", \\\"https://lh5.googleusercontent.com/p/AF1QipP4ynTiwmGzRFE_zHUzMSjvSF0Jubgg4JEb43Zr=w150-h150-k-no-p\\\", \\\"https://lh5.googleusercontent.com/p/AF1QipNN0IC7VkLORgdDJO1JyMxW4EpGVgp-HcIw7b0d=w150-h150-k-no-p\\\", \\\"https://lh5.googleusercontent.com/p/AF1QipOhpwxL9H_nwOXg82wZu_xnjvoBdkHyBYkfiuUA=w150-h150-k-no-p\\\", \\\"https://lh5.googleusercontent.com/p/AF1QipO9yVxyhNYhfCVxZR1J0RqbZFRr4iPSLXs3ieKx=w150-h150-k-no-p\\\", \\\"https://lh5.googleusercontent.com/p/AF1QipNWM9-kpso4OjEXNVhSguCGwjMdacRgPVwJZ1Tp=w150-h150-k-no-p\\\", \\\"https://lh5.googleusercontent.com/p/AF1QipOzEYAXHMtTV4n65a-tpBz-WBN2BS8dcjAzysz3=w150-h150-k-no-p\\\", \\\"https://lh5.googleusercontent.com/p/AF1QipMt43HJHDpKuKPb3j5o8vi_9q5mFrqA764C94mi=w150-h150-k-no-p\\\", \\\"https://lh5.googleusercontent.com/p/AF1QipPK0ltxT5RmBjmP8xIRZYqixN_xZspMR574smx7=w150-h150-k-no-p\\\"]\",\n          \"[\\\"https://lh5.googleusercontent.com/p/AF1QipOi0-1LDxRfJNExeKyrAB-aocEtSu-goSp-Zmx6=w150-h150-k-no-p\\\", \\\"https://lh5.googleusercontent.com/p/AF1QipOcd5G2ggyGndlmj9yI-r1Mg4Hj0xLw6b-EwoU9=w150-h150-k-no-p\\\", \\\"https://lh5.googleusercontent.com/p/AF1QipMqHILQieFz6ioIKpeWKMGfEtNGiPMElQ4gtrjO=w150-h150-k-no-p\\\", \\\"https://lh5.googleusercontent.com/p/AF1QipNV3tsWlxqbyS5YT1WgpGJ38F6Hz1u0VPDYlEX_=w150-h150-k-no-p\\\", \\\"https://lh5.googleusercontent.com/p/AF1QipNlusxyJitMpTdHcrZx5tEg48D8sfqWwyaHEDGD=w150-h150-k-no-p\\\", \\\"https://lh5.googleusercontent.com/p/AF1QipMH8x9ahTIuK9cS0w0AsPd3NbgOz8lgxMAgs89e=w150-h150-k-no-p\\\", \\\"https://lh5.googleusercontent.com/p/AF1QipN23_DCn1IaMyE5_9S2gvjjOzb3cjaGtsz0NJHo=w150-h150-k-no-p\\\", \\\"https://lh5.googleusercontent.com/p/AF1QipN4oy1atyf5zrWuD-sY0iZtCzjE_829RZuKBUMN=w150-h150-k-no-p\\\", \\\"https://lh5.googleusercontent.com/p/AF1QipPp71Gj_Sfjr7IBexBrDNsCbaFlLmIn76du9eH9=w150-h150-k-no-p\\\", \\\"https://lh5.googleusercontent.com/p/AF1QipO7c2BeRtrb8PyK-2pldTxhYsWb_ZjL6yxzI3nn=w150-h150-k-no-p\\\", \\\"https://lh5.googleusercontent.com/p/AF1QipN2xYbCI6qCQXTpYTKl_85-5Q-F2Z6OqVTvmVh7=w150-h150-k-no-p\\\", \\\"https://lh5.googleusercontent.com/p/AF1QipOoSVNLe9CtaOJnV0h25vew9BPhiyCWz45-25GW=w150-h150-k-no-p\\\", \\\"https://lh5.googleusercontent.com/p/AF1QipNSWymSv5Ipl3SITFRGhZarxK28Snm6uO3km92Z=w150-h150-k-no-p\\\", \\\"https://lh5.googleusercontent.com/p/AF1QipP2_M4LoF3c_vgqA62UxMRpD5E-20rBxp-RRVNR=w150-h150-k-no-p\\\"]\"\n        ],\n        \"semantic_type\": \"\",\n        \"description\": \"\"\n      }\n    },\n    {\n      \"column\": \"categories\",\n      \"properties\": {\n        \"dtype\": \"category\",\n        \"num_unique_values\": 80,\n        \"samples\": [\n          \"Restoran Amerika Selatan, Bar & Grill, Restoran Amerika Latin, Restoran Steak\",\n          \"Restoran Jerman, Brewpub\"\n        ],\n        \"semantic_type\": \"\",\n        \"description\": \"\"\n      }\n    },\n    {\n      \"column\": \"link\",\n      \"properties\": {\n        \"dtype\": \"category\",\n        \"num_unique_values\": 110,\n        \"samples\": [\n          \"https://www.google.com/maps/place/C%E2%80%99s+Steak+and+Seafood/data=!4m7!3m6!1s0x2e69f4215086cc87:0x7ee1b4ecce396a39!8m2!3d-6.1925811!4d106.8219398!16s%2Fg%2F1tds43qb!19sChIJh8yGUCH0aS4ROWo5zuy04X4?authuser=0&hl=id&rclk=1\",\n          \"https://www.google.com/maps/place/The+Caf%C3%A9/data=!4m7!3m6!1s0x2e69f6b452092f99:0x52923bef6359d0f7!8m2!3d-6.2149549!4d106.7970461!16s%2Fg%2F1tj6lc7s!19sChIJmS8JUrT2aS4R99BZY-87klI?authuser=0&hl=id&rclk=1\"\n        ],\n        \"semantic_type\": \"\",\n        \"description\": \"\"\n      }\n    }\n  ]\n}"
            }
          },
          "metadata": {},
          "execution_count": 6
        }
      ],
      "source": [
        "df_review = pd.read_csv('https://raw.githubusercontent.com/snapeat-bangkit/Machine-Learning/main/dataset/reviews.csv')\n",
        "df_kategori = pd.read_csv('https://raw.githubusercontent.com/snapeat-bangkit/Machine-Learning/main/dataset/resto_categories.csv')\n",
        "\n",
        "merged_df = pd.merge(df_review, df_kategori[['place_id', 'categories', 'link']], on='place_id', how='left')\n",
        "merged_df = merged_df.drop(columns=['published_at', 'published_at_date', 'response_from_owner_text', 'response_from_owner_ago', 'response_from_owner_date', 'review_translated_text', 'response_from_owner_translated_text'])\n",
        "\n",
        "merged_df['rating'] = df_review['rating'].astype(int)\n",
        "merged_df['review_likes_count'] = df_review['review_likes_count'].astype(int)\n",
        "merged_df['total_number_of_reviews_by_reviewer'] = df_review['total_number_of_reviews_by_reviewer'].astype(int)\n",
        "merged_df['total_number_of_photos_by_reviewer'] = df_review['total_number_of_photos_by_reviewer'].astype(int)\n",
        "merged_df['is_local_guide'] = df_review['is_local_guide'].astype(bool)\n",
        "\n",
        "merged_df"
      ]
    },
    {
      "cell_type": "markdown",
      "metadata": {
        "id": "6CsRu_aGgAO3"
      },
      "source": [
        "# Content-based Filtering"
      ]
    },
    {
      "cell_type": "markdown",
      "source": [
        "## Pre-processing"
      ],
      "metadata": {
        "id": "5cFm6hb_raF6"
      }
    },
    {
      "cell_type": "code",
      "source": [
        "def translate_text(text):\n",
        "    translator = Translator()\n",
        "    translated = translator.translate(text, src='id', dest='en')\n",
        "    return translated.text\n",
        "\n",
        "# Menerapkan terjemahan pada kolom 'review_text' jika diperlukan\n",
        "merged_df['review_text_en'] = merged_df['review_text']\n",
        "# Menerapkan terjemahan hanya untuk teks yang dalam bahasa Indonesia\n",
        "indonesian_mask = merged_df['review_text_en'].str.contains(r'[^\\x00-\\x7F]+', na=False)\n",
        "merged_df.loc[indonesian_mask, 'review_text_en'] = merged_df.loc[indonesian_mask, 'review_text_en'].apply(translate_text)\n",
        "\n",
        "\n",
        "# Pra-pemrosesan data\n",
        "restaurant_reviews = merged_df.groupby('place_id')['review_text_en'].apply(lambda x: ' '.join(x))\n",
        "restaurant_scores = merged_df.groupby('place_id')['rating'].mean()\n",
        "\n",
        "tfidf_vectorizer = TfidfVectorizer(stop_words='english')\n",
        "tfidf_matrix = tfidf_vectorizer.fit_transform(restaurant_reviews)\n",
        "\n",
        "# Pisahkan data menjadi set pelatihan dan pengujian\n",
        "X_train, X_test, y_train, y_test = train_test_split(tfidf_matrix, restaurant_scores.values, test_size=0.2, random_state=42)\n",
        "\n",
        "# Konversi ke tensor dense\n",
        "X_train_dense = X_train.toarray()\n",
        "X_test_dense = X_test.toarray()"
      ],
      "metadata": {
        "id": "Gd4pVZjToGTt"
      },
      "execution_count": null,
      "outputs": []
    },
    {
      "cell_type": "markdown",
      "source": [
        "## Content-based Model"
      ],
      "metadata": {
        "id": "0ue5sm_Mrhih"
      }
    },
    {
      "cell_type": "code",
      "execution_count": null,
      "metadata": {
        "colab": {
          "base_uri": "https://localhost:8080/",
          "height": 1000
        },
        "id": "HP-VL0vjHJa_",
        "outputId": "db5b50e5-ca24-4225-851a-417809dacfc6"
      },
      "outputs": [
        {
          "output_type": "stream",
          "name": "stderr",
          "text": [
            "/usr/local/lib/python3.10/dist-packages/keras/src/layers/core/dense.py:87: UserWarning: Do not pass an `input_shape`/`input_dim` argument to a layer. When using Sequential models, prefer using an `Input(shape)` object as the first layer in the model instead.\n",
            "  super().__init__(activity_regularizer=activity_regularizer, **kwargs)\n"
          ]
        },
        {
          "output_type": "stream",
          "name": "stdout",
          "text": [
            "Epoch 1/350\n",
            "\u001b[1m6/6\u001b[0m \u001b[32m━━━━━━━━━━━━━━━━━━━━\u001b[0m\u001b[37m\u001b[0m \u001b[1m28s\u001b[0m 2s/step - loss: 21.1008 - root_mean_squared_error: 4.5926 - val_loss: 20.9511 - val_root_mean_squared_error: 4.5772\n",
            "Epoch 2/350\n",
            "\u001b[1m6/6\u001b[0m \u001b[32m━━━━━━━━━━━━━━━━━━━━\u001b[0m\u001b[37m\u001b[0m \u001b[1m0s\u001b[0m 15ms/step - loss: 21.5389 - root_mean_squared_error: 4.6409 - val_loss: 20.1586 - val_root_mean_squared_error: 4.4898\n",
            "Epoch 3/350\n",
            "\u001b[1m6/6\u001b[0m \u001b[32m━━━━━━━━━━━━━━━━━━━━\u001b[0m\u001b[37m\u001b[0m \u001b[1m0s\u001b[0m 15ms/step - loss: 22.2614 - root_mean_squared_error: 4.7181 - val_loss: 19.4038 - val_root_mean_squared_error: 4.4050\n",
            "Epoch 4/350\n",
            "\u001b[1m6/6\u001b[0m \u001b[32m━━━━━━━━━━━━━━━━━━━━\u001b[0m\u001b[37m\u001b[0m \u001b[1m0s\u001b[0m 15ms/step - loss: 19.3808 - root_mean_squared_error: 4.4020 - val_loss: 18.7321 - val_root_mean_squared_error: 4.3281\n",
            "Epoch 5/350\n",
            "\u001b[1m6/6\u001b[0m \u001b[32m━━━━━━━━━━━━━━━━━━━━\u001b[0m\u001b[37m\u001b[0m \u001b[1m0s\u001b[0m 15ms/step - loss: 20.3047 - root_mean_squared_error: 4.5060 - val_loss: 18.2044 - val_root_mean_squared_error: 4.2667\n",
            "Epoch 6/350\n",
            "\u001b[1m6/6\u001b[0m \u001b[32m━━━━━━━━━━━━━━━━━━━━\u001b[0m\u001b[37m\u001b[0m \u001b[1m0s\u001b[0m 16ms/step - loss: 20.6126 - root_mean_squared_error: 4.5394 - val_loss: 17.5905 - val_root_mean_squared_error: 4.1941\n",
            "Epoch 7/350\n",
            "\u001b[1m6/6\u001b[0m \u001b[32m━━━━━━━━━━━━━━━━━━━━\u001b[0m\u001b[37m\u001b[0m \u001b[1m0s\u001b[0m 16ms/step - loss: 19.1346 - root_mean_squared_error: 4.3741 - val_loss: 17.0520 - val_root_mean_squared_error: 4.1294\n",
            "Epoch 8/350\n",
            "\u001b[1m6/6\u001b[0m \u001b[32m━━━━━━━━━━━━━━━━━━━━\u001b[0m\u001b[37m\u001b[0m \u001b[1m0s\u001b[0m 15ms/step - loss: 19.2506 - root_mean_squared_error: 4.3875 - val_loss: 16.6588 - val_root_mean_squared_error: 4.0815\n",
            "Epoch 9/350\n",
            "\u001b[1m6/6\u001b[0m \u001b[32m━━━━━━━━━━━━━━━━━━━━\u001b[0m\u001b[37m\u001b[0m \u001b[1m0s\u001b[0m 12ms/step - loss: 19.3299 - root_mean_squared_error: 4.3965 - val_loss: 16.3598 - val_root_mean_squared_error: 4.0447\n",
            "Epoch 10/350\n",
            "\u001b[1m6/6\u001b[0m \u001b[32m━━━━━━━━━━━━━━━━━━━━\u001b[0m\u001b[37m\u001b[0m \u001b[1m0s\u001b[0m 15ms/step - loss: 17.8215 - root_mean_squared_error: 4.2210 - val_loss: 16.1510 - val_root_mean_squared_error: 4.0188\n",
            "Epoch 11/350\n",
            "\u001b[1m6/6\u001b[0m \u001b[32m━━━━━━━━━━━━━━━━━━━━\u001b[0m\u001b[37m\u001b[0m \u001b[1m0s\u001b[0m 13ms/step - loss: 17.8020 - root_mean_squared_error: 4.2191 - val_loss: 15.9392 - val_root_mean_squared_error: 3.9924\n",
            "Epoch 12/350\n",
            "\u001b[1m6/6\u001b[0m \u001b[32m━━━━━━━━━━━━━━━━━━━━\u001b[0m\u001b[37m\u001b[0m \u001b[1m0s\u001b[0m 12ms/step - loss: 17.2901 - root_mean_squared_error: 4.1581 - val_loss: 15.6262 - val_root_mean_squared_error: 3.9530\n",
            "Epoch 13/350\n",
            "\u001b[1m6/6\u001b[0m \u001b[32m━━━━━━━━━━━━━━━━━━━━\u001b[0m\u001b[37m\u001b[0m \u001b[1m0s\u001b[0m 15ms/step - loss: 16.6794 - root_mean_squared_error: 4.0830 - val_loss: 15.2635 - val_root_mean_squared_error: 3.9069\n",
            "Epoch 14/350\n",
            "\u001b[1m6/6\u001b[0m \u001b[32m━━━━━━━━━━━━━━━━━━━━\u001b[0m\u001b[37m\u001b[0m \u001b[1m0s\u001b[0m 12ms/step - loss: 16.3048 - root_mean_squared_error: 4.0365 - val_loss: 14.9108 - val_root_mean_squared_error: 3.8614\n",
            "Epoch 15/350\n",
            "\u001b[1m6/6\u001b[0m \u001b[32m━━━━━━━━━━━━━━━━━━━━\u001b[0m\u001b[37m\u001b[0m \u001b[1m0s\u001b[0m 15ms/step - loss: 17.8100 - root_mean_squared_error: 4.2198 - val_loss: 14.6730 - val_root_mean_squared_error: 3.8305\n",
            "Epoch 16/350\n",
            "\u001b[1m6/6\u001b[0m \u001b[32m━━━━━━━━━━━━━━━━━━━━\u001b[0m\u001b[37m\u001b[0m \u001b[1m0s\u001b[0m 12ms/step - loss: 16.2360 - root_mean_squared_error: 4.0294 - val_loss: 14.4050 - val_root_mean_squared_error: 3.7954\n",
            "Epoch 17/350\n",
            "\u001b[1m6/6\u001b[0m \u001b[32m━━━━━━━━━━━━━━━━━━━━\u001b[0m\u001b[37m\u001b[0m \u001b[1m0s\u001b[0m 15ms/step - loss: 15.5714 - root_mean_squared_error: 3.9455 - val_loss: 13.9023 - val_root_mean_squared_error: 3.7286\n",
            "Epoch 18/350\n",
            "\u001b[1m6/6\u001b[0m \u001b[32m━━━━━━━━━━━━━━━━━━━━\u001b[0m\u001b[37m\u001b[0m \u001b[1m0s\u001b[0m 13ms/step - loss: 14.5958 - root_mean_squared_error: 3.8192 - val_loss: 13.5401 - val_root_mean_squared_error: 3.6797\n",
            "Epoch 19/350\n",
            "\u001b[1m6/6\u001b[0m \u001b[32m━━━━━━━━━━━━━━━━━━━━\u001b[0m\u001b[37m\u001b[0m \u001b[1m0s\u001b[0m 11ms/step - loss: 15.4569 - root_mean_squared_error: 3.9315 - val_loss: 13.2229 - val_root_mean_squared_error: 3.6363\n",
            "Epoch 20/350\n",
            "\u001b[1m6/6\u001b[0m \u001b[32m━━━━━━━━━━━━━━━━━━━━\u001b[0m\u001b[37m\u001b[0m \u001b[1m0s\u001b[0m 12ms/step - loss: 14.2199 - root_mean_squared_error: 3.7703 - val_loss: 12.7707 - val_root_mean_squared_error: 3.5736\n",
            "Epoch 21/350\n",
            "\u001b[1m6/6\u001b[0m \u001b[32m━━━━━━━━━━━━━━━━━━━━\u001b[0m\u001b[37m\u001b[0m \u001b[1m0s\u001b[0m 14ms/step - loss: 14.0247 - root_mean_squared_error: 3.7449 - val_loss: 12.2160 - val_root_mean_squared_error: 3.4951\n",
            "Epoch 22/350\n",
            "\u001b[1m6/6\u001b[0m \u001b[32m━━━━━━━━━━━━━━━━━━━━\u001b[0m\u001b[37m\u001b[0m \u001b[1m0s\u001b[0m 12ms/step - loss: 13.3316 - root_mean_squared_error: 3.6510 - val_loss: 11.7295 - val_root_mean_squared_error: 3.4248\n",
            "Epoch 23/350\n",
            "\u001b[1m6/6\u001b[0m \u001b[32m━━━━━━━━━━━━━━━━━━━━\u001b[0m\u001b[37m\u001b[0m \u001b[1m0s\u001b[0m 11ms/step - loss: 13.7959 - root_mean_squared_error: 3.7137 - val_loss: 11.3094 - val_root_mean_squared_error: 3.3630\n",
            "Epoch 24/350\n",
            "\u001b[1m6/6\u001b[0m \u001b[32m━━━━━━━━━━━━━━━━━━━━\u001b[0m\u001b[37m\u001b[0m \u001b[1m0s\u001b[0m 12ms/step - loss: 11.9957 - root_mean_squared_error: 3.4632 - val_loss: 10.7012 - val_root_mean_squared_error: 3.2713\n",
            "Epoch 25/350\n",
            "\u001b[1m6/6\u001b[0m \u001b[32m━━━━━━━━━━━━━━━━━━━━\u001b[0m\u001b[37m\u001b[0m \u001b[1m0s\u001b[0m 17ms/step - loss: 12.3338 - root_mean_squared_error: 3.5114 - val_loss: 10.1752 - val_root_mean_squared_error: 3.1899\n",
            "Epoch 26/350\n",
            "\u001b[1m6/6\u001b[0m \u001b[32m━━━━━━━━━━━━━━━━━━━━\u001b[0m\u001b[37m\u001b[0m \u001b[1m0s\u001b[0m 19ms/step - loss: 11.3204 - root_mean_squared_error: 3.3637 - val_loss: 9.6762 - val_root_mean_squared_error: 3.1107\n",
            "Epoch 27/350\n",
            "\u001b[1m6/6\u001b[0m \u001b[32m━━━━━━━━━━━━━━━━━━━━\u001b[0m\u001b[37m\u001b[0m \u001b[1m0s\u001b[0m 20ms/step - loss: 10.9730 - root_mean_squared_error: 3.3125 - val_loss: 9.0663 - val_root_mean_squared_error: 3.0110\n",
            "Epoch 28/350\n",
            "\u001b[1m6/6\u001b[0m \u001b[32m━━━━━━━━━━━━━━━━━━━━\u001b[0m\u001b[37m\u001b[0m \u001b[1m0s\u001b[0m 18ms/step - loss: 10.3018 - root_mean_squared_error: 3.2094 - val_loss: 8.5978 - val_root_mean_squared_error: 2.9322\n",
            "Epoch 29/350\n",
            "\u001b[1m6/6\u001b[0m \u001b[32m━━━━━━━━━━━━━━━━━━━━\u001b[0m\u001b[37m\u001b[0m \u001b[1m0s\u001b[0m 18ms/step - loss: 11.4121 - root_mean_squared_error: 3.3778 - val_loss: 8.3230 - val_root_mean_squared_error: 2.8850\n",
            "Epoch 30/350\n",
            "\u001b[1m6/6\u001b[0m \u001b[32m━━━━━━━━━━━━━━━━━━━━\u001b[0m\u001b[37m\u001b[0m \u001b[1m0s\u001b[0m 16ms/step - loss: 9.7773 - root_mean_squared_error: 3.1267 - val_loss: 8.0370 - val_root_mean_squared_error: 2.8350\n",
            "Epoch 31/350\n",
            "\u001b[1m6/6\u001b[0m \u001b[32m━━━━━━━━━━━━━━━━━━━━\u001b[0m\u001b[37m\u001b[0m \u001b[1m0s\u001b[0m 21ms/step - loss: 9.2599 - root_mean_squared_error: 3.0425 - val_loss: 7.5731 - val_root_mean_squared_error: 2.7519\n",
            "Epoch 32/350\n",
            "\u001b[1m6/6\u001b[0m \u001b[32m━━━━━━━━━━━━━━━━━━━━\u001b[0m\u001b[37m\u001b[0m \u001b[1m0s\u001b[0m 15ms/step - loss: 8.5781 - root_mean_squared_error: 2.9269 - val_loss: 6.9080 - val_root_mean_squared_error: 2.6283\n",
            "Epoch 33/350\n",
            "\u001b[1m6/6\u001b[0m \u001b[32m━━━━━━━━━━━━━━━━━━━━\u001b[0m\u001b[37m\u001b[0m \u001b[1m0s\u001b[0m 18ms/step - loss: 8.2375 - root_mean_squared_error: 2.8698 - val_loss: 6.3490 - val_root_mean_squared_error: 2.5197\n",
            "Epoch 34/350\n",
            "\u001b[1m6/6\u001b[0m \u001b[32m━━━━━━━━━━━━━━━━━━━━\u001b[0m\u001b[37m\u001b[0m \u001b[1m0s\u001b[0m 17ms/step - loss: 8.5305 - root_mean_squared_error: 2.9202 - val_loss: 5.7242 - val_root_mean_squared_error: 2.3925\n",
            "Epoch 35/350\n",
            "\u001b[1m6/6\u001b[0m \u001b[32m━━━━━━━━━━━━━━━━━━━━\u001b[0m\u001b[37m\u001b[0m \u001b[1m0s\u001b[0m 16ms/step - loss: 7.0745 - root_mean_squared_error: 2.6580 - val_loss: 5.1986 - val_root_mean_squared_error: 2.2800\n",
            "Epoch 36/350\n",
            "\u001b[1m6/6\u001b[0m \u001b[32m━━━━━━━━━━━━━━━━━━━━\u001b[0m\u001b[37m\u001b[0m \u001b[1m0s\u001b[0m 18ms/step - loss: 6.9494 - root_mean_squared_error: 2.6361 - val_loss: 4.7161 - val_root_mean_squared_error: 2.1717\n",
            "Epoch 37/350\n",
            "\u001b[1m6/6\u001b[0m \u001b[32m━━━━━━━━━━━━━━━━━━━━\u001b[0m\u001b[37m\u001b[0m \u001b[1m0s\u001b[0m 19ms/step - loss: 6.9170 - root_mean_squared_error: 2.6291 - val_loss: 4.2672 - val_root_mean_squared_error: 2.0657\n",
            "Epoch 38/350\n",
            "\u001b[1m6/6\u001b[0m \u001b[32m━━━━━━━━━━━━━━━━━━━━\u001b[0m\u001b[37m\u001b[0m \u001b[1m0s\u001b[0m 18ms/step - loss: 6.6508 - root_mean_squared_error: 2.5786 - val_loss: 4.0748 - val_root_mean_squared_error: 2.0186\n",
            "Epoch 39/350\n",
            "\u001b[1m6/6\u001b[0m \u001b[32m━━━━━━━━━━━━━━━━━━━━\u001b[0m\u001b[37m\u001b[0m \u001b[1m0s\u001b[0m 17ms/step - loss: 5.9953 - root_mean_squared_error: 2.4481 - val_loss: 3.8721 - val_root_mean_squared_error: 1.9678\n",
            "Epoch 40/350\n",
            "\u001b[1m6/6\u001b[0m \u001b[32m━━━━━━━━━━━━━━━━━━━━\u001b[0m\u001b[37m\u001b[0m \u001b[1m0s\u001b[0m 17ms/step - loss: 5.8334 - root_mean_squared_error: 2.4141 - val_loss: 3.7272 - val_root_mean_squared_error: 1.9306\n",
            "Epoch 41/350\n",
            "\u001b[1m6/6\u001b[0m \u001b[32m━━━━━━━━━━━━━━━━━━━━\u001b[0m\u001b[37m\u001b[0m \u001b[1m0s\u001b[0m 19ms/step - loss: 4.8239 - root_mean_squared_error: 2.1948 - val_loss: 3.5557 - val_root_mean_squared_error: 1.8857\n",
            "Epoch 42/350\n",
            "\u001b[1m6/6\u001b[0m \u001b[32m━━━━━━━━━━━━━━━━━━━━\u001b[0m\u001b[37m\u001b[0m \u001b[1m0s\u001b[0m 12ms/step - loss: 5.0117 - root_mean_squared_error: 2.2380 - val_loss: 3.3150 - val_root_mean_squared_error: 1.8207\n",
            "Epoch 43/350\n",
            "\u001b[1m6/6\u001b[0m \u001b[32m━━━━━━━━━━━━━━━━━━━━\u001b[0m\u001b[37m\u001b[0m \u001b[1m0s\u001b[0m 15ms/step - loss: 4.4138 - root_mean_squared_error: 2.1003 - val_loss: 3.0746 - val_root_mean_squared_error: 1.7534\n",
            "Epoch 44/350\n",
            "\u001b[1m6/6\u001b[0m \u001b[32m━━━━━━━━━━━━━━━━━━━━\u001b[0m\u001b[37m\u001b[0m \u001b[1m0s\u001b[0m 15ms/step - loss: 4.1324 - root_mean_squared_error: 2.0324 - val_loss: 2.6786 - val_root_mean_squared_error: 1.6366\n",
            "Epoch 45/350\n",
            "\u001b[1m6/6\u001b[0m \u001b[32m━━━━━━━━━━━━━━━━━━━━\u001b[0m\u001b[37m\u001b[0m \u001b[1m0s\u001b[0m 17ms/step - loss: 3.4440 - root_mean_squared_error: 1.8536 - val_loss: 2.2887 - val_root_mean_squared_error: 1.5128\n",
            "Epoch 46/350\n",
            "\u001b[1m6/6\u001b[0m \u001b[32m━━━━━━━━━━━━━━━━━━━━\u001b[0m\u001b[37m\u001b[0m \u001b[1m0s\u001b[0m 15ms/step - loss: 3.9589 - root_mean_squared_error: 1.9892 - val_loss: 1.9880 - val_root_mean_squared_error: 1.4100\n",
            "Epoch 47/350\n",
            "\u001b[1m6/6\u001b[0m \u001b[32m━━━━━━━━━━━━━━━━━━━━\u001b[0m\u001b[37m\u001b[0m \u001b[1m0s\u001b[0m 15ms/step - loss: 2.9329 - root_mean_squared_error: 1.7118 - val_loss: 1.7612 - val_root_mean_squared_error: 1.3271\n",
            "Epoch 48/350\n",
            "\u001b[1m6/6\u001b[0m \u001b[32m━━━━━━━━━━━━━━━━━━━━\u001b[0m\u001b[37m\u001b[0m \u001b[1m0s\u001b[0m 12ms/step - loss: 3.0415 - root_mean_squared_error: 1.7433 - val_loss: 1.4653 - val_root_mean_squared_error: 1.2105\n",
            "Epoch 49/350\n",
            "\u001b[1m6/6\u001b[0m \u001b[32m━━━━━━━━━━━━━━━━━━━━\u001b[0m\u001b[37m\u001b[0m \u001b[1m0s\u001b[0m 12ms/step - loss: 3.0242 - root_mean_squared_error: 1.7363 - val_loss: 1.1825 - val_root_mean_squared_error: 1.0874\n",
            "Epoch 50/350\n",
            "\u001b[1m6/6\u001b[0m \u001b[32m━━━━━━━━━━━━━━━━━━━━\u001b[0m\u001b[37m\u001b[0m \u001b[1m0s\u001b[0m 11ms/step - loss: 3.0968 - root_mean_squared_error: 1.7577 - val_loss: 0.8723 - val_root_mean_squared_error: 0.9340\n",
            "Epoch 51/350\n",
            "\u001b[1m6/6\u001b[0m \u001b[32m━━━━━━━━━━━━━━━━━━━━\u001b[0m\u001b[37m\u001b[0m \u001b[1m0s\u001b[0m 12ms/step - loss: 2.6208 - root_mean_squared_error: 1.6180 - val_loss: 0.7121 - val_root_mean_squared_error: 0.8438\n",
            "Epoch 52/350\n",
            "\u001b[1m6/6\u001b[0m \u001b[32m━━━━━━━━━━━━━━━━━━━━\u001b[0m\u001b[37m\u001b[0m \u001b[1m0s\u001b[0m 12ms/step - loss: 2.5530 - root_mean_squared_error: 1.5955 - val_loss: 0.6011 - val_root_mean_squared_error: 0.7753\n",
            "Epoch 53/350\n",
            "\u001b[1m6/6\u001b[0m \u001b[32m━━━━━━━━━━━━━━━━━━━━\u001b[0m\u001b[37m\u001b[0m \u001b[1m0s\u001b[0m 15ms/step - loss: 2.7191 - root_mean_squared_error: 1.6450 - val_loss: 0.5267 - val_root_mean_squared_error: 0.7258\n",
            "Epoch 54/350\n",
            "\u001b[1m6/6\u001b[0m \u001b[32m━━━━━━━━━━━━━━━━━━━━\u001b[0m\u001b[37m\u001b[0m \u001b[1m0s\u001b[0m 12ms/step - loss: 2.3683 - root_mean_squared_error: 1.5382 - val_loss: 0.4926 - val_root_mean_squared_error: 0.7019\n",
            "Epoch 55/350\n",
            "\u001b[1m6/6\u001b[0m \u001b[32m━━━━━━━━━━━━━━━━━━━━\u001b[0m\u001b[37m\u001b[0m \u001b[1m0s\u001b[0m 16ms/step - loss: 2.0297 - root_mean_squared_error: 1.4233 - val_loss: 0.4703 - val_root_mean_squared_error: 0.6858\n",
            "Epoch 56/350\n",
            "\u001b[1m6/6\u001b[0m \u001b[32m━━━━━━━━━━━━━━━━━━━━\u001b[0m\u001b[37m\u001b[0m \u001b[1m0s\u001b[0m 12ms/step - loss: 1.8951 - root_mean_squared_error: 1.3755 - val_loss: 0.4138 - val_root_mean_squared_error: 0.6432\n",
            "Epoch 57/350\n",
            "\u001b[1m6/6\u001b[0m \u001b[32m━━━━━━━━━━━━━━━━━━━━\u001b[0m\u001b[37m\u001b[0m \u001b[1m0s\u001b[0m 11ms/step - loss: 2.1405 - root_mean_squared_error: 1.4600 - val_loss: 0.3459 - val_root_mean_squared_error: 0.5881\n",
            "Epoch 58/350\n",
            "\u001b[1m6/6\u001b[0m \u001b[32m━━━━━━━━━━━━━━━━━━━━\u001b[0m\u001b[37m\u001b[0m \u001b[1m0s\u001b[0m 12ms/step - loss: 1.9631 - root_mean_squared_error: 1.3987 - val_loss: 0.2773 - val_root_mean_squared_error: 0.5265\n",
            "Epoch 59/350\n",
            "\u001b[1m6/6\u001b[0m \u001b[32m━━━━━━━━━━━━━━━━━━━━\u001b[0m\u001b[37m\u001b[0m \u001b[1m0s\u001b[0m 12ms/step - loss: 1.7254 - root_mean_squared_error: 1.3129 - val_loss: 0.2772 - val_root_mean_squared_error: 0.5265\n",
            "Epoch 60/350\n",
            "\u001b[1m6/6\u001b[0m \u001b[32m━━━━━━━━━━━━━━━━━━━━\u001b[0m\u001b[37m\u001b[0m \u001b[1m0s\u001b[0m 12ms/step - loss: 1.5898 - root_mean_squared_error: 1.2594 - val_loss: 0.2493 - val_root_mean_squared_error: 0.4993\n",
            "Epoch 61/350\n",
            "\u001b[1m6/6\u001b[0m \u001b[32m━━━━━━━━━━━━━━━━━━━━\u001b[0m\u001b[37m\u001b[0m \u001b[1m0s\u001b[0m 13ms/step - loss: 1.5089 - root_mean_squared_error: 1.2271 - val_loss: 0.2230 - val_root_mean_squared_error: 0.4722\n",
            "Epoch 62/350\n",
            "\u001b[1m6/6\u001b[0m \u001b[32m━━━━━━━━━━━━━━━━━━━━\u001b[0m\u001b[37m\u001b[0m \u001b[1m0s\u001b[0m 12ms/step - loss: 1.3234 - root_mean_squared_error: 1.1491 - val_loss: 0.2420 - val_root_mean_squared_error: 0.4919\n",
            "Epoch 63/350\n",
            "\u001b[1m6/6\u001b[0m \u001b[32m━━━━━━━━━━━━━━━━━━━━\u001b[0m\u001b[37m\u001b[0m \u001b[1m0s\u001b[0m 13ms/step - loss: 1.4044 - root_mean_squared_error: 1.1845 - val_loss: 0.2545 - val_root_mean_squared_error: 0.5045\n",
            "Epoch 64/350\n",
            "\u001b[1m6/6\u001b[0m \u001b[32m━━━━━━━━━━━━━━━━━━━━\u001b[0m\u001b[37m\u001b[0m \u001b[1m0s\u001b[0m 11ms/step - loss: 1.3837 - root_mean_squared_error: 1.1726 - val_loss: 0.2453 - val_root_mean_squared_error: 0.4953\n",
            "Epoch 65/350\n",
            "\u001b[1m6/6\u001b[0m \u001b[32m━━━━━━━━━━━━━━━━━━━━\u001b[0m\u001b[37m\u001b[0m \u001b[1m0s\u001b[0m 15ms/step - loss: 1.0683 - root_mean_squared_error: 1.0305 - val_loss: 0.2126 - val_root_mean_squared_error: 0.4611\n",
            "Epoch 66/350\n",
            "\u001b[1m6/6\u001b[0m \u001b[32m━━━━━━━━━━━━━━━━━━━━\u001b[0m\u001b[37m\u001b[0m \u001b[1m0s\u001b[0m 15ms/step - loss: 1.2074 - root_mean_squared_error: 1.0961 - val_loss: 0.1437 - val_root_mean_squared_error: 0.3791\n",
            "Epoch 67/350\n",
            "\u001b[1m6/6\u001b[0m \u001b[32m━━━━━━━━━━━━━━━━━━━━\u001b[0m\u001b[37m\u001b[0m \u001b[1m0s\u001b[0m 11ms/step - loss: 1.2380 - root_mean_squared_error: 1.1088 - val_loss: 0.1178 - val_root_mean_squared_error: 0.3432\n",
            "Epoch 68/350\n",
            "\u001b[1m6/6\u001b[0m \u001b[32m━━━━━━━━━━━━━━━━━━━━\u001b[0m\u001b[37m\u001b[0m \u001b[1m0s\u001b[0m 12ms/step - loss: 1.0757 - root_mean_squared_error: 1.0271 - val_loss: 0.0983 - val_root_mean_squared_error: 0.3135\n",
            "Epoch 69/350\n",
            "\u001b[1m6/6\u001b[0m \u001b[32m━━━━━━━━━━━━━━━━━━━━\u001b[0m\u001b[37m\u001b[0m \u001b[1m0s\u001b[0m 11ms/step - loss: 1.3241 - root_mean_squared_error: 1.1454 - val_loss: 0.0944 - val_root_mean_squared_error: 0.3073\n",
            "Epoch 70/350\n",
            "\u001b[1m6/6\u001b[0m \u001b[32m━━━━━━━━━━━━━━━━━━━━\u001b[0m\u001b[37m\u001b[0m \u001b[1m0s\u001b[0m 15ms/step - loss: 1.1490 - root_mean_squared_error: 1.0715 - val_loss: 0.0882 - val_root_mean_squared_error: 0.2970\n",
            "Epoch 71/350\n",
            "\u001b[1m6/6\u001b[0m \u001b[32m━━━━━━━━━━━━━━━━━━━━\u001b[0m\u001b[37m\u001b[0m \u001b[1m0s\u001b[0m 12ms/step - loss: 1.1748 - root_mean_squared_error: 1.0838 - val_loss: 0.0952 - val_root_mean_squared_error: 0.3086\n",
            "Epoch 72/350\n",
            "\u001b[1m6/6\u001b[0m \u001b[32m━━━━━━━━━━━━━━━━━━━━\u001b[0m\u001b[37m\u001b[0m \u001b[1m0s\u001b[0m 10ms/step - loss: 0.9264 - root_mean_squared_error: 0.9599 - val_loss: 0.0923 - val_root_mean_squared_error: 0.3037\n",
            "Epoch 73/350\n",
            "\u001b[1m6/6\u001b[0m \u001b[32m━━━━━━━━━━━━━━━━━━━━\u001b[0m\u001b[37m\u001b[0m \u001b[1m0s\u001b[0m 11ms/step - loss: 1.2323 - root_mean_squared_error: 1.1062 - val_loss: 0.0804 - val_root_mean_squared_error: 0.2835\n",
            "Epoch 74/350\n",
            "\u001b[1m6/6\u001b[0m \u001b[32m━━━━━━━━━━━━━━━━━━━━\u001b[0m\u001b[37m\u001b[0m \u001b[1m0s\u001b[0m 11ms/step - loss: 1.4890 - root_mean_squared_error: 1.2125 - val_loss: 0.0941 - val_root_mean_squared_error: 0.3068\n",
            "Epoch 75/350\n",
            "\u001b[1m6/6\u001b[0m \u001b[32m━━━━━━━━━━━━━━━━━━━━\u001b[0m\u001b[37m\u001b[0m \u001b[1m0s\u001b[0m 9ms/step - loss: 1.3092 - root_mean_squared_error: 1.1410 - val_loss: 0.1093 - val_root_mean_squared_error: 0.3307\n",
            "Epoch 76/350\n",
            "\u001b[1m6/6\u001b[0m \u001b[32m━━━━━━━━━━━━━━━━━━━━\u001b[0m\u001b[37m\u001b[0m \u001b[1m0s\u001b[0m 9ms/step - loss: 1.4833 - root_mean_squared_error: 1.2166 - val_loss: 0.1049 - val_root_mean_squared_error: 0.3239\n",
            "Epoch 77/350\n",
            "\u001b[1m6/6\u001b[0m \u001b[32m━━━━━━━━━━━━━━━━━━━━\u001b[0m\u001b[37m\u001b[0m \u001b[1m0s\u001b[0m 8ms/step - loss: 1.1565 - root_mean_squared_error: 1.0746 - val_loss: 0.0959 - val_root_mean_squared_error: 0.3096\n",
            "Epoch 78/350\n",
            "\u001b[1m6/6\u001b[0m \u001b[32m━━━━━━━━━━━━━━━━━━━━\u001b[0m\u001b[37m\u001b[0m \u001b[1m0s\u001b[0m 8ms/step - loss: 1.1228 - root_mean_squared_error: 1.0554 - val_loss: 0.1093 - val_root_mean_squared_error: 0.3306\n",
            "Epoch 79/350\n",
            "\u001b[1m6/6\u001b[0m \u001b[32m━━━━━━━━━━━━━━━━━━━━\u001b[0m\u001b[37m\u001b[0m \u001b[1m0s\u001b[0m 9ms/step - loss: 1.1879 - root_mean_squared_error: 1.0866 - val_loss: 0.1296 - val_root_mean_squared_error: 0.3600\n",
            "Epoch 80/350\n",
            "\u001b[1m6/6\u001b[0m \u001b[32m━━━━━━━━━━━━━━━━━━━━\u001b[0m\u001b[37m\u001b[0m \u001b[1m0s\u001b[0m 14ms/step - loss: 1.1817 - root_mean_squared_error: 1.0815 - val_loss: 0.1270 - val_root_mean_squared_error: 0.3564\n",
            "Epoch 81/350\n",
            "\u001b[1m6/6\u001b[0m \u001b[32m━━━━━━━━━━━━━━━━━━━━\u001b[0m\u001b[37m\u001b[0m \u001b[1m0s\u001b[0m 8ms/step - loss: 1.3932 - root_mean_squared_error: 1.1790 - val_loss: 0.1163 - val_root_mean_squared_error: 0.3410\n",
            "Epoch 82/350\n",
            "\u001b[1m6/6\u001b[0m \u001b[32m━━━━━━━━━━━━━━━━━━━━\u001b[0m\u001b[37m\u001b[0m \u001b[1m0s\u001b[0m 10ms/step - loss: 1.0267 - root_mean_squared_error: 1.0128 - val_loss: 0.1075 - val_root_mean_squared_error: 0.3279\n",
            "Epoch 83/350\n",
            "\u001b[1m6/6\u001b[0m \u001b[32m━━━━━━━━━━━━━━━━━━━━\u001b[0m\u001b[37m\u001b[0m \u001b[1m0s\u001b[0m 10ms/step - loss: 0.8976 - root_mean_squared_error: 0.9471 - val_loss: 0.0905 - val_root_mean_squared_error: 0.3008\n",
            "\u001b[1m1/1\u001b[0m \u001b[32m━━━━━━━━━━━━━━━━━━━━\u001b[0m\u001b[37m\u001b[0m \u001b[1m0s\u001b[0m 263ms/step\n",
            "MSE: 0.08039944994361163\n",
            "RMSE: 0.2835479676238425\n"
          ]
        },
        {
          "output_type": "display_data",
          "data": {
            "text/plain": [
              "<Figure size 640x480 with 1 Axes>"
            ],
            "image/png": "[encoded data removed]"
          },
          "metadata": {}
        },
        {
          "output_type": "display_data",
          "data": {
            "text/plain": [
              "<Figure size 640x480 with 1 Axes>"
            ],
            "image/png": "[encoded data removed]"
          },
          "metadata": {}
        }
      ],
      "source": [
        "# Build model with TensorFlow\n",
        "class ContentModel(tf.keras.Model):\n",
        "    def __init__(self, num_features):\n",
        "        super(ContentModel, self).__init__()\n",
        "        self.dense1 = tf.keras.layers.Dense(512, activation='relu', input_shape=(None, num_features))\n",
        "        self.batch_norm1 = tf.keras.layers.BatchNormalization()\n",
        "        self.dropout1 = tf.keras.layers.Dropout(0.3)\n",
        "\n",
        "        self.dense2 = tf.keras.layers.Dense(256, activation='relu')\n",
        "        self.batch_norm2 = tf.keras.layers.BatchNormalization()\n",
        "        self.dropout2 = tf.keras.layers.Dropout(0.3)\n",
        "\n",
        "        self.dense3 = tf.keras.layers.Dense(128, activation='relu')\n",
        "        self.batch_norm3 = tf.keras.layers.BatchNormalization()\n",
        "        self.dropout3 = tf.keras.layers.Dropout(0.2)\n",
        "\n",
        "        self.dense4 = tf.keras.layers.Dense(64, activation='relu')\n",
        "        self.batch_norm4 = tf.keras.layers.BatchNormalization()\n",
        "        self.dropout4 = tf.keras.layers.Dropout(0.2)\n",
        "\n",
        "        self.dense5 = tf.keras.layers.Dense(32, activation='relu')\n",
        "        self.batch_norm5 = tf.keras.layers.BatchNormalization()\n",
        "        self.dropout5 = tf.keras.layers.Dropout(0.1)\n",
        "\n",
        "        self.output_layer = tf.keras.layers.Dense(1)\n",
        "\n",
        "    def call(self, inputs):\n",
        "        x = self.dense1(inputs)\n",
        "        x = self.batch_norm1(x)\n",
        "        x = self.dropout1(x)\n",
        "\n",
        "        x = self.dense2(x)\n",
        "        x = self.batch_norm2(x)\n",
        "        x = self.dropout2(x)\n",
        "\n",
        "        x = self.dense3(x)\n",
        "        x = self.batch_norm3(x)\n",
        "        x = self.dropout3(x)\n",
        "\n",
        "        x = self.dense4(x)\n",
        "        x = self.batch_norm4(x)\n",
        "        x = self.dropout4(x)\n",
        "\n",
        "        x = self.dense5(x)\n",
        "        x = self.batch_norm5(x)\n",
        "        x = self.dropout5(x)\n",
        "\n",
        "        return self.output_layer(x)\n",
        "\n",
        "# Inisialisasi model\n",
        "num_features = X_train_dense.shape[1]\n",
        "#model_content = ContentModel(num_features)\n",
        "\n",
        "content_inputs = tf.keras.layers.Input(shape=(num_features, ))\n",
        "#model_collab.build(input_shape=(None, 2))\n",
        "#model_collab.summary()\n",
        "content_outputs = ContentModel(num_features)(content_inputs)\n",
        "\n",
        "model_content = tf.keras.Model(inputs=content_inputs, outputs=content_outputs)\n",
        "\n",
        "# Kompilasi model\n",
        "model_content.compile(\n",
        "    optimizer=tf.keras.optimizers.Adam(learning_rate=0.001),\n",
        "    loss='mean_squared_error',\n",
        "    metrics=[tf.keras.metrics.RootMeanSquaredError()]\n",
        "    )\n",
        "\n",
        "# Define early stopping callback\n",
        "early_stopping = tf.keras.callbacks.EarlyStopping(monitor='val_loss', patience=10, restore_best_weights=True)\n",
        "\n",
        "# Train model\n",
        "history = model_content.fit(X_train_dense, y_train, epochs=350, batch_size=16, validation_data=(X_test_dense, y_test), callbacks=[early_stopping])\n",
        "\n",
        "# Evaluasi model\n",
        "y_pred = model_content.predict(X_test_dense).flatten()\n",
        "mse = mean_squared_error(y_test, y_pred)\n",
        "rmse = np.sqrt(mse)\n",
        "print(\"MSE:\", mse)\n",
        "print(\"RMSE:\", rmse)\n",
        "\n",
        "# Buat grafik loss\n",
        "plt.plot(history.history['loss'], label='Training Loss')\n",
        "plt.plot(history.history['val_loss'], label='Validation Loss')\n",
        "plt.xlabel('Epoch')\n",
        "plt.ylabel('Loss')\n",
        "plt.legend()\n",
        "plt.show()\n",
        "\n",
        "# Buat grafik\n",
        "plt.scatter(y_test, y_pred)\n",
        "plt.xlabel('True Ratings')\n",
        "plt.ylabel('Predicted Ratings')\n",
        "plt.title('True vs Predicted Ratings')\n",
        "plt.show()"
      ]
    },
    {
      "cell_type": "code",
      "execution_count": null,
      "metadata": {
        "colab": {
          "base_uri": "https://localhost:8080/",
          "height": 209
        },
        "id": "WQB6hXS4Wq4C",
        "outputId": "8ba8fd88-2e30-4e1c-c6bc-4f9cb510de7a"
      },
      "outputs": [
        {
          "output_type": "display_data",
          "data": {
            "text/plain": [
              "\u001b[1mModel: \"functional_3\"\u001b[0m\n"
            ],
            "text/html": [
              "<pre style=\"white-space:pre;overflow-x:auto;line-height:normal;font-family:Menlo,'DejaVu Sans Mono',consolas,'Courier New',monospace\"><span style=\"font-weight: bold\">Model: \"functional_3\"</span>\n",
              "</pre>\n"
            ]
          },
          "metadata": {}
        },
        {
          "output_type": "display_data",
          "data": {
            "text/plain": [
              "┏━━━━━━━━━━━━━━━━━━━━━━━━━━━━━━━━━━━━━━┳━━━━━━━━━━━━━━━━━━━━━━━━━━━━━┳━━━━━━━━━━━━━━━━━┓\n",
              "┃\u001b[1m \u001b[0m\u001b[1mLayer (type)                        \u001b[0m\u001b[1m \u001b[0m┃\u001b[1m \u001b[0m\u001b[1mOutput Shape               \u001b[0m\u001b[1m \u001b[0m┃\u001b[1m \u001b[0m\u001b[1m        Param #\u001b[0m\u001b[1m \u001b[0m┃\n",
              "┡━━━━━━━━━━━━━━━━━━━━━━━━━━━━━━━━━━━━━━╇━━━━━━━━━━━━━━━━━━━━━━━━━━━━━╇━━━━━━━━━━━━━━━━━┩\n",
              "│ input_layer_1 (\u001b[38;5;33mInputLayer\u001b[0m)           │ (\u001b[38;5;45mNone\u001b[0m, \u001b[38;5;34m7061\u001b[0m)                │               \u001b[38;5;34m0\u001b[0m │\n",
              "├──────────────────────────────────────┼─────────────────────────────┼─────────────────┤\n",
              "│ content_model_1 (\u001b[38;5;33mContentModel\u001b[0m)       │ (\u001b[38;5;45mNone\u001b[0m, \u001b[38;5;34m1\u001b[0m)                   │       \u001b[38;5;34m3,794,305\u001b[0m │\n",
              "└──────────────────────────────────────┴─────────────────────────────┴─────────────────┘\n"
            ],
            "text/html": [
              "<pre style=\"white-space:pre;overflow-x:auto;line-height:normal;font-family:Menlo,'DejaVu Sans Mono',consolas,'Courier New',monospace\">┏━━━━━━━━━━━━━━━━━━━━━━━━━━━━━━━━━━━━━━┳━━━━━━━━━━━━━━━━━━━━━━━━━━━━━┳━━━━━━━━━━━━━━━━━┓\n",
              "┃<span style=\"font-weight: bold\"> Layer (type)                         </span>┃<span style=\"font-weight: bold\"> Output Shape                </span>┃<span style=\"font-weight: bold\">         Param # </span>┃\n",
              "┡━━━━━━━━━━━━━━━━━━━━━━━━━━━━━━━━━━━━━━╇━━━━━━━━━━━━━━━━━━━━━━━━━━━━━╇━━━━━━━━━━━━━━━━━┩\n",
              "│ input_layer_1 (<span style=\"color: #0087ff; text-decoration-color: #0087ff\">InputLayer</span>)           │ (<span style=\"color: #00d7ff; text-decoration-color: #00d7ff\">None</span>, <span style=\"color: #00af00; text-decoration-color: #00af00\">7061</span>)                │               <span style=\"color: #00af00; text-decoration-color: #00af00\">0</span> │\n",
              "├──────────────────────────────────────┼─────────────────────────────┼─────────────────┤\n",
              "│ content_model_1 (<span style=\"color: #0087ff; text-decoration-color: #0087ff\">ContentModel</span>)       │ (<span style=\"color: #00d7ff; text-decoration-color: #00d7ff\">None</span>, <span style=\"color: #00af00; text-decoration-color: #00af00\">1</span>)                   │       <span style=\"color: #00af00; text-decoration-color: #00af00\">3,794,305</span> │\n",
              "└──────────────────────────────────────┴─────────────────────────────┴─────────────────┘\n",
              "</pre>\n"
            ]
          },
          "metadata": {}
        },
        {
          "output_type": "display_data",
          "data": {
            "text/plain": [
              "\u001b[1m Total params: \u001b[0m\u001b[38;5;34m11,378,949\u001b[0m (43.41 MB)\n"
            ],
            "text/html": [
              "<pre style=\"white-space:pre;overflow-x:auto;line-height:normal;font-family:Menlo,'DejaVu Sans Mono',consolas,'Courier New',monospace\"><span style=\"font-weight: bold\"> Total params: </span><span style=\"color: #00af00; text-decoration-color: #00af00\">11,378,949</span> (43.41 MB)\n",
              "</pre>\n"
            ]
          },
          "metadata": {}
        },
        {
          "output_type": "display_data",
          "data": {
            "text/plain": [
              "\u001b[1m Trainable params: \u001b[0m\u001b[38;5;34m3,792,321\u001b[0m (14.47 MB)\n"
            ],
            "text/html": [
              "<pre style=\"white-space:pre;overflow-x:auto;line-height:normal;font-family:Menlo,'DejaVu Sans Mono',consolas,'Courier New',monospace\"><span style=\"font-weight: bold\"> Trainable params: </span><span style=\"color: #00af00; text-decoration-color: #00af00\">3,792,321</span> (14.47 MB)\n",
              "</pre>\n"
            ]
          },
          "metadata": {}
        },
        {
          "output_type": "display_data",
          "data": {
            "text/plain": [
              "\u001b[1m Non-trainable params: \u001b[0m\u001b[38;5;34m1,984\u001b[0m (7.75 KB)\n"
            ],
            "text/html": [
              "<pre style=\"white-space:pre;overflow-x:auto;line-height:normal;font-family:Menlo,'DejaVu Sans Mono',consolas,'Courier New',monospace\"><span style=\"font-weight: bold\"> Non-trainable params: </span><span style=\"color: #00af00; text-decoration-color: #00af00\">1,984</span> (7.75 KB)\n",
              "</pre>\n"
            ]
          },
          "metadata": {}
        },
        {
          "output_type": "display_data",
          "data": {
            "text/plain": [
              "\u001b[1m Optimizer params: \u001b[0m\u001b[38;5;34m7,584,644\u001b[0m (28.93 MB)\n"
            ],
            "text/html": [
              "<pre style=\"white-space:pre;overflow-x:auto;line-height:normal;font-family:Menlo,'DejaVu Sans Mono',consolas,'Courier New',monospace\"><span style=\"font-weight: bold\"> Optimizer params: </span><span style=\"color: #00af00; text-decoration-color: #00af00\">7,584,644</span> (28.93 MB)\n",
              "</pre>\n"
            ]
          },
          "metadata": {}
        }
      ],
      "source": [
        "model_content.build(input_shape=(num_features, ))\n",
        "model_content.summary()"
      ]
    },
    {
      "cell_type": "markdown",
      "metadata": {
        "id": "00DN8xOtTHTN"
      },
      "source": [
        "# Collaborative Filtering"
      ]
    },
    {
      "cell_type": "markdown",
      "source": [
        "## Pre-processing"
      ],
      "metadata": {
        "id": "-czk39pMr3Se"
      }
    },
    {
      "cell_type": "code",
      "source": [
        "# Split data into training and testing sets\n",
        "train_df, test_df = train_test_split(merged_df, test_size=0.2, random_state=42)\n",
        "\n",
        "# Convert user_id and place_id to categorical data\n",
        "user_ids = merged_df['user_id'].unique().tolist()\n",
        "place_ids = merged_df['place_id'].unique().tolist()\n",
        "\n",
        "user_id2idx = {user_id: idx for idx, user_id in enumerate(user_ids)}\n",
        "place_id2idx = {place_id: idx for idx, place_id in enumerate(place_ids)}\n",
        "\n",
        "merged_df['user_id'] = merged_df['user_id'].map(user_id2idx)\n",
        "merged_df['place_id'] = merged_df['place_id'].map(place_id2idx)\n",
        "\n",
        "train_df['user_id'] = train_df['user_id'].map(user_id2idx)\n",
        "train_df['place_id'] = train_df['place_id'].map(place_id2idx)\n",
        "\n",
        "test_df['user_id'] = test_df['user_id'].map(user_id2idx)\n",
        "test_df['place_id'] = test_df['place_id'].map(place_id2idx)"
      ],
      "metadata": {
        "id": "O4D0TcF3rSG0"
      },
      "execution_count": null,
      "outputs": []
    },
    {
      "cell_type": "markdown",
      "source": [
        "## Collaborative Model"
      ],
      "metadata": {
        "id": "mk-_xw0Fv2PG"
      }
    },
    {
      "cell_type": "code",
      "execution_count": null,
      "metadata": {
        "id": "uDKG43LfZ1JZ"
      },
      "outputs": [],
      "source": [
        "class CollabModel(tf.keras.Model):\n",
        "    def __init__(self, num_users, num_places, embedding_size):\n",
        "        super(CollabModel, self).__init__()\n",
        "        self.user_embedding = tf.keras.layers.Embedding(input_dim=num_users, output_dim=embedding_size, embeddings_regularizer=tf.keras.regularizers.l2(1e-4))\n",
        "        self.place_embedding = tf.keras.layers.Embedding(input_dim=num_places, output_dim=embedding_size, embeddings_regularizer=tf.keras.regularizers.l2(1e-4))\n",
        "        self.dense1 = tf.keras.layers.Dense(256, activation='relu')\n",
        "        self.dropout1 = tf.keras.layers.Dropout(0.5)\n",
        "        self.dense2 = tf.keras.layers.Dense(128, activation='relu')\n",
        "        self.dropout2 = tf.keras.layers.Dropout(0.7)\n",
        "        self.dense3 = tf.keras.layers.Dense(64, activation='relu')\n",
        "        self.dropout3 = tf.keras.layers.Dropout(0.5)\n",
        "        self.output_layer = tf.keras.layers.Dense(1, activation='linear')\n",
        "\n",
        "    def call(self, inputs):\n",
        "        user_vector = self.user_embedding(inputs[:, 0])\n",
        "        place_vector = self.place_embedding(inputs[:, 1])\n",
        "        x = tf.concat([user_vector, place_vector], axis=1)\n",
        "        x = self.dense1(x)\n",
        "        x = self.dropout1(x)\n",
        "        x = self.dense2(x)\n",
        "        x = self.dropout2(x)\n",
        "        x = self.dense3(x)\n",
        "        x = self.dropout3(x)\n",
        "        output = self.output_layer(x)\n",
        "        return output\n",
        "\n",
        "num_users = len(user_ids)\n",
        "num_places = len(place_ids)\n",
        "embedding_size = 20\n",
        "\n",
        "collab_inputs = tf.keras.layers.Input(shape=(2,), dtype=tf.int32)\n",
        "collab_outputs = CollabModel(num_users, num_places, embedding_size)(collab_inputs)\n",
        "\n",
        "model_collab = tf.keras.Model(inputs=collab_inputs, outputs=collab_outputs)\n",
        "model_collab.compile(\n",
        "    optimizer=tf.keras.optimizers.Adam(learning_rate=0.01),\n",
        "    loss='mean_squared_error',\n",
        "    metrics=[tf.keras.metrics.RootMeanSquaredError()]\n",
        "    )"
      ]
    },
    {
      "cell_type": "code",
      "execution_count": null,
      "metadata": {
        "colab": {
          "base_uri": "https://localhost:8080/",
          "height": 1000
        },
        "id": "K9WOmSHn3JrL",
        "outputId": "8dda6449-2947-409c-edbf-3350a24f3eec"
      },
      "outputs": [
        {
          "output_type": "stream",
          "name": "stdout",
          "text": [
            "Epoch 1/100\n",
            "\u001b[1m88/88\u001b[0m \u001b[32m━━━━━━━━━━━━━━━━━━━━\u001b[0m\u001b[37m\u001b[0m \u001b[1m7s\u001b[0m 7ms/step - loss: 7.5070 - root_mean_squared_error: 2.6507 - val_loss: 1.6894 - val_root_mean_squared_error: 1.2988\n",
            "Epoch 2/100\n",
            "\u001b[1m88/88\u001b[0m \u001b[32m━━━━━━━━━━━━━━━━━━━━\u001b[0m\u001b[37m\u001b[0m \u001b[1m0s\u001b[0m 2ms/step - loss: 3.5030 - root_mean_squared_error: 1.8698 - val_loss: 1.4879 - val_root_mean_squared_error: 1.2181\n",
            "Epoch 3/100\n",
            "\u001b[1m88/88\u001b[0m \u001b[32m━━━━━━━━━━━━━━━━━━━━\u001b[0m\u001b[37m\u001b[0m \u001b[1m0s\u001b[0m 3ms/step - loss: 2.4833 - root_mean_squared_error: 1.5708 - val_loss: 1.2700 - val_root_mean_squared_error: 1.1246\n",
            "Epoch 4/100\n",
            "\u001b[1m88/88\u001b[0m \u001b[32m━━━━━━━━━━━━━━━━━━━━\u001b[0m\u001b[37m\u001b[0m \u001b[1m0s\u001b[0m 2ms/step - loss: 2.4826 - root_mean_squared_error: 1.5722 - val_loss: 1.8054 - val_root_mean_squared_error: 1.3416\n",
            "Epoch 5/100\n",
            "\u001b[1m88/88\u001b[0m \u001b[32m━━━━━━━━━━━━━━━━━━━━\u001b[0m\u001b[37m\u001b[0m \u001b[1m0s\u001b[0m 3ms/step - loss: 1.5601 - root_mean_squared_error: 1.2456 - val_loss: 0.8922 - val_root_mean_squared_error: 0.9417\n",
            "Epoch 6/100\n",
            "\u001b[1m88/88\u001b[0m \u001b[32m━━━━━━━━━━━━━━━━━━━━\u001b[0m\u001b[37m\u001b[0m \u001b[1m0s\u001b[0m 3ms/step - loss: 1.2849 - root_mean_squared_error: 1.1302 - val_loss: 1.1306 - val_root_mean_squared_error: 1.0608\n",
            "Epoch 7/100\n",
            "\u001b[1m88/88\u001b[0m \u001b[32m━━━━━━━━━━━━━━━━━━━━\u001b[0m\u001b[37m\u001b[0m \u001b[1m0s\u001b[0m 3ms/step - loss: 1.1603 - root_mean_squared_error: 1.0734 - val_loss: 0.9044 - val_root_mean_squared_error: 0.9482\n",
            "Epoch 8/100\n",
            "\u001b[1m88/88\u001b[0m \u001b[32m━━━━━━━━━━━━━━━━━━━━\u001b[0m\u001b[37m\u001b[0m \u001b[1m0s\u001b[0m 4ms/step - loss: 0.9932 - root_mean_squared_error: 0.9922 - val_loss: 0.8877 - val_root_mean_squared_error: 0.9394\n",
            "Epoch 9/100\n",
            "\u001b[1m88/88\u001b[0m \u001b[32m━━━━━━━━━━━━━━━━━━━━\u001b[0m\u001b[37m\u001b[0m \u001b[1m1s\u001b[0m 4ms/step - loss: 1.1531 - root_mean_squared_error: 1.0698 - val_loss: 0.8553 - val_root_mean_squared_error: 0.9220\n",
            "Epoch 10/100\n",
            "\u001b[1m88/88\u001b[0m \u001b[32m━━━━━━━━━━━━━━━━━━━━\u001b[0m\u001b[37m\u001b[0m \u001b[1m0s\u001b[0m 4ms/step - loss: 0.9319 - root_mean_squared_error: 0.9614 - val_loss: 0.8826 - val_root_mean_squared_error: 0.9367\n",
            "Epoch 11/100\n",
            "\u001b[1m88/88\u001b[0m \u001b[32m━━━━━━━━━━━━━━━━━━━━\u001b[0m\u001b[37m\u001b[0m \u001b[1m0s\u001b[0m 4ms/step - loss: 0.9377 - root_mean_squared_error: 0.9613 - val_loss: 0.9193 - val_root_mean_squared_error: 0.9560\n",
            "Epoch 12/100\n",
            "\u001b[1m88/88\u001b[0m \u001b[32m━━━━━━━━━━━━━━━━━━━━\u001b[0m\u001b[37m\u001b[0m \u001b[1m1s\u001b[0m 3ms/step - loss: 0.8877 - root_mean_squared_error: 0.9379 - val_loss: 0.9719 - val_root_mean_squared_error: 0.9830\n",
            "Epoch 13/100\n",
            "\u001b[1m88/88\u001b[0m \u001b[32m━━━━━━━━━━━━━━━━━━━━\u001b[0m\u001b[37m\u001b[0m \u001b[1m0s\u001b[0m 3ms/step - loss: 1.0666 - root_mean_squared_error: 1.0277 - val_loss: 0.9350 - val_root_mean_squared_error: 0.9639\n",
            "Epoch 14/100\n",
            "\u001b[1m88/88\u001b[0m \u001b[32m━━━━━━━━━━━━━━━━━━━━\u001b[0m\u001b[37m\u001b[0m \u001b[1m0s\u001b[0m 4ms/step - loss: 0.9028 - root_mean_squared_error: 0.9382 - val_loss: 0.9575 - val_root_mean_squared_error: 0.9754\n",
            "Epoch 15/100\n",
            "\u001b[1m88/88\u001b[0m \u001b[32m━━━━━━━━━━━━━━━━━━━━\u001b[0m\u001b[37m\u001b[0m \u001b[1m0s\u001b[0m 4ms/step - loss: 0.9503 - root_mean_squared_error: 0.9693 - val_loss: 0.9856 - val_root_mean_squared_error: 0.9897\n",
            "Epoch 16/100\n",
            "\u001b[1m88/88\u001b[0m \u001b[32m━━━━━━━━━━━━━━━━━━━━\u001b[0m\u001b[37m\u001b[0m \u001b[1m1s\u001b[0m 4ms/step - loss: 0.8914 - root_mean_squared_error: 0.9363 - val_loss: 0.9226 - val_root_mean_squared_error: 0.9572\n",
            "Epoch 17/100\n",
            "\u001b[1m88/88\u001b[0m \u001b[32m━━━━━━━━━━━━━━━━━━━━\u001b[0m\u001b[37m\u001b[0m \u001b[1m1s\u001b[0m 4ms/step - loss: 0.7621 - root_mean_squared_error: 0.8665 - val_loss: 0.8964 - val_root_mean_squared_error: 0.9434\n",
            "Epoch 18/100\n",
            "\u001b[1m88/88\u001b[0m \u001b[32m━━━━━━━━━━━━━━━━━━━━\u001b[0m\u001b[37m\u001b[0m \u001b[1m1s\u001b[0m 3ms/step - loss: 0.7105 - root_mean_squared_error: 0.8375 - val_loss: 0.9131 - val_root_mean_squared_error: 0.9520\n",
            "Epoch 19/100\n",
            "\u001b[1m88/88\u001b[0m \u001b[32m━━━━━━━━━━━━━━━━━━━━\u001b[0m\u001b[37m\u001b[0m \u001b[1m0s\u001b[0m 3ms/step - loss: 0.9967 - root_mean_squared_error: 0.9873 - val_loss: 1.0082 - val_root_mean_squared_error: 1.0005\n",
            "\u001b[1m6/6\u001b[0m \u001b[32m━━━━━━━━━━━━━━━━━━━━\u001b[0m\u001b[37m\u001b[0m \u001b[1m1s\u001b[0m 47ms/step\n",
            "MSE: 0.850063302320274\n",
            "RMSE: 0.921988775593431\n"
          ]
        },
        {
          "output_type": "display_data",
          "data": {
            "text/plain": [
              "<Figure size 640x480 with 1 Axes>"
            ],
            "image/png": "[encoded data removed]"
          },
          "metadata": {}
        }
      ],
      "source": [
        "train_data = train_df[['user_id', 'place_id']].values\n",
        "train_labels = train_df['rating'].values\n",
        "\n",
        "test_data = test_df[['user_id', 'place_id']].values\n",
        "test_labels = test_df['rating'].values\n",
        "\n",
        "early_stopping = tf.keras.callbacks.EarlyStopping(monitor='val_loss', patience=10, restore_best_weights=True)\n",
        "\n",
        "history = model_collab.fit(\n",
        "    x=train_data,\n",
        "    y=train_labels,\n",
        "    epochs=100,\n",
        "    batch_size=8,\n",
        "    verbose=1,\n",
        "    validation_data=(test_data, test_labels),\n",
        "    callbacks=[early_stopping]\n",
        ")\n",
        "\n",
        "# Evaluasi model\n",
        "y_pred = model_collab.predict(test_data).flatten()\n",
        "mse = mean_squared_error(test_labels, y_pred)\n",
        "rmse = np.sqrt(mse)\n",
        "print(\"MSE:\", mse)\n",
        "print(\"RMSE:\", rmse)\n",
        "\n",
        "# Buat grafik loss\n",
        "plt.plot(history.history['loss'], label='Training Loss')\n",
        "plt.plot(history.history['val_loss'], label='Validation Loss')\n",
        "plt.xlabel('Epoch')\n",
        "plt.ylabel('Loss')\n",
        "plt.legend()\n",
        "plt.show()\n"
      ]
    },
    {
      "cell_type": "code",
      "execution_count": null,
      "metadata": {
        "colab": {
          "base_uri": "https://localhost:8080/",
          "height": 209
        },
        "id": "vNuZ7BjsYakG",
        "outputId": "de127496-ef10-4ce6-ec7e-f21d86a835cf"
      },
      "outputs": [
        {
          "output_type": "display_data",
          "data": {
            "text/plain": [
              "\u001b[1mModel: \"functional_5\"\u001b[0m\n"
            ],
            "text/html": [
              "<pre style=\"white-space:pre;overflow-x:auto;line-height:normal;font-family:Menlo,'DejaVu Sans Mono',consolas,'Courier New',monospace\"><span style=\"font-weight: bold\">Model: \"functional_5\"</span>\n",
              "</pre>\n"
            ]
          },
          "metadata": {}
        },
        {
          "output_type": "display_data",
          "data": {
            "text/plain": [
              "┏━━━━━━━━━━━━━━━━━━━━━━━━━━━━━━━━━━━━━━┳━━━━━━━━━━━━━━━━━━━━━━━━━━━━━┳━━━━━━━━━━━━━━━━━┓\n",
              "┃\u001b[1m \u001b[0m\u001b[1mLayer (type)                        \u001b[0m\u001b[1m \u001b[0m┃\u001b[1m \u001b[0m\u001b[1mOutput Shape               \u001b[0m\u001b[1m \u001b[0m┃\u001b[1m \u001b[0m\u001b[1m        Param #\u001b[0m\u001b[1m \u001b[0m┃\n",
              "┡━━━━━━━━━━━━━━━━━━━━━━━━━━━━━━━━━━━━━━╇━━━━━━━━━━━━━━━━━━━━━━━━━━━━━╇━━━━━━━━━━━━━━━━━┩\n",
              "│ input_layer_2 (\u001b[38;5;33mInputLayer\u001b[0m)           │ (\u001b[38;5;45mNone\u001b[0m, \u001b[38;5;34m2\u001b[0m)                   │               \u001b[38;5;34m0\u001b[0m │\n",
              "├──────────────────────────────────────┼─────────────────────────────┼─────────────────┤\n",
              "│ collab_model (\u001b[38;5;33mCollabModel\u001b[0m)           │ (\u001b[38;5;45mNone\u001b[0m, \u001b[38;5;34m1\u001b[0m)                   │          \u001b[38;5;34m54,913\u001b[0m │\n",
              "└──────────────────────────────────────┴─────────────────────────────┴─────────────────┘\n"
            ],
            "text/html": [
              "<pre style=\"white-space:pre;overflow-x:auto;line-height:normal;font-family:Menlo,'DejaVu Sans Mono',consolas,'Courier New',monospace\">┏━━━━━━━━━━━━━━━━━━━━━━━━━━━━━━━━━━━━━━┳━━━━━━━━━━━━━━━━━━━━━━━━━━━━━┳━━━━━━━━━━━━━━━━━┓\n",
              "┃<span style=\"font-weight: bold\"> Layer (type)                         </span>┃<span style=\"font-weight: bold\"> Output Shape                </span>┃<span style=\"font-weight: bold\">         Param # </span>┃\n",
              "┡━━━━━━━━━━━━━━━━━━━━━━━━━━━━━━━━━━━━━━╇━━━━━━━━━━━━━━━━━━━━━━━━━━━━━╇━━━━━━━━━━━━━━━━━┩\n",
              "│ input_layer_2 (<span style=\"color: #0087ff; text-decoration-color: #0087ff\">InputLayer</span>)           │ (<span style=\"color: #00d7ff; text-decoration-color: #00d7ff\">None</span>, <span style=\"color: #00af00; text-decoration-color: #00af00\">2</span>)                   │               <span style=\"color: #00af00; text-decoration-color: #00af00\">0</span> │\n",
              "├──────────────────────────────────────┼─────────────────────────────┼─────────────────┤\n",
              "│ collab_model (<span style=\"color: #0087ff; text-decoration-color: #0087ff\">CollabModel</span>)           │ (<span style=\"color: #00d7ff; text-decoration-color: #00d7ff\">None</span>, <span style=\"color: #00af00; text-decoration-color: #00af00\">1</span>)                   │          <span style=\"color: #00af00; text-decoration-color: #00af00\">54,913</span> │\n",
              "└──────────────────────────────────────┴─────────────────────────────┴─────────────────┘\n",
              "</pre>\n"
            ]
          },
          "metadata": {}
        },
        {
          "output_type": "display_data",
          "data": {
            "text/plain": [
              "\u001b[1m Total params: \u001b[0m\u001b[38;5;34m164,741\u001b[0m (643.52 KB)\n"
            ],
            "text/html": [
              "<pre style=\"white-space:pre;overflow-x:auto;line-height:normal;font-family:Menlo,'DejaVu Sans Mono',consolas,'Courier New',monospace\"><span style=\"font-weight: bold\"> Total params: </span><span style=\"color: #00af00; text-decoration-color: #00af00\">164,741</span> (643.52 KB)\n",
              "</pre>\n"
            ]
          },
          "metadata": {}
        },
        {
          "output_type": "display_data",
          "data": {
            "text/plain": [
              "\u001b[1m Trainable params: \u001b[0m\u001b[38;5;34m54,913\u001b[0m (214.50 KB)\n"
            ],
            "text/html": [
              "<pre style=\"white-space:pre;overflow-x:auto;line-height:normal;font-family:Menlo,'DejaVu Sans Mono',consolas,'Courier New',monospace\"><span style=\"font-weight: bold\"> Trainable params: </span><span style=\"color: #00af00; text-decoration-color: #00af00\">54,913</span> (214.50 KB)\n",
              "</pre>\n"
            ]
          },
          "metadata": {}
        },
        {
          "output_type": "display_data",
          "data": {
            "text/plain": [
              "\u001b[1m Non-trainable params: \u001b[0m\u001b[38;5;34m0\u001b[0m (0.00 B)\n"
            ],
            "text/html": [
              "<pre style=\"white-space:pre;overflow-x:auto;line-height:normal;font-family:Menlo,'DejaVu Sans Mono',consolas,'Courier New',monospace\"><span style=\"font-weight: bold\"> Non-trainable params: </span><span style=\"color: #00af00; text-decoration-color: #00af00\">0</span> (0.00 B)\n",
              "</pre>\n"
            ]
          },
          "metadata": {}
        },
        {
          "output_type": "display_data",
          "data": {
            "text/plain": [
              "\u001b[1m Optimizer params: \u001b[0m\u001b[38;5;34m109,828\u001b[0m (429.02 KB)\n"
            ],
            "text/html": [
              "<pre style=\"white-space:pre;overflow-x:auto;line-height:normal;font-family:Menlo,'DejaVu Sans Mono',consolas,'Courier New',monospace\"><span style=\"font-weight: bold\"> Optimizer params: </span><span style=\"color: #00af00; text-decoration-color: #00af00\">109,828</span> (429.02 KB)\n",
              "</pre>\n"
            ]
          },
          "metadata": {}
        }
      ],
      "source": [
        "model_collab.build(input_shape=(None, 2))\n",
        "model_collab.summary()"
      ]
    },
    {
      "cell_type": "markdown",
      "metadata": {
        "id": "xBnHxBOEgzh4"
      },
      "source": [
        "# Ensembling"
      ]
    },
    {
      "cell_type": "markdown",
      "source": [
        "## Pre-processing"
      ],
      "metadata": {
        "id": "dsLunNsTsew3"
      }
    },
    {
      "cell_type": "code",
      "source": [
        "# Prepare data for hybrid model\n",
        "user_ids = merged_df['user_id'].unique().tolist()\n",
        "place_ids = merged_df['place_id'].unique().tolist()\n",
        "\n",
        "user_id2idx = {user_id: idx for idx, user_id in enumerate(user_ids)}\n",
        "place_id2idx = {place_id: idx for idx, place_id in enumerate(place_ids)}\n",
        "\n",
        "merged_df['user_id'] = merged_df['user_id'].map(user_id2idx)\n",
        "merged_df['place_id'] = merged_df['place_id'].map(place_id2idx)\n",
        "\n",
        "# Split data into training and testing sets for hybrid model\n",
        "train_df, test_df = train_test_split(merged_df, test_size=0.2, random_state=42)\n",
        "\n",
        "# Get TF-IDF vectors for train and test data\n",
        "train_tfidf_matrix = tfidf_matrix[train_df['place_id'].map(place_id2idx).values]\n",
        "test_tfidf_matrix = tfidf_matrix[test_df['place_id'].map(place_id2idx).values]\n",
        "\n",
        "# Prepare hybrid model input data\n",
        "train_data = np.concatenate([train_df[['user_id', 'place_id']].values, train_tfidf_matrix.toarray()], axis=1)\n",
        "test_data = np.concatenate([test_df[['user_id', 'place_id']].values, test_tfidf_matrix.toarray()], axis=1)\n",
        "train_labels = train_df['rating'].values\n",
        "test_labels = test_df['rating'].values\n",
        "\n",
        "# Normalize or standardize the features\n",
        "from sklearn.preprocessing import StandardScaler\n",
        "scaler = StandardScaler()\n",
        "\n",
        "train_data[:, 2:] = scaler.fit_transform(train_data[:, 2:])\n",
        "test_data[:, 2:] = scaler.transform(test_data[:, 2:])\n"
      ],
      "metadata": {
        "id": "xWgYlaVGseDg"
      },
      "execution_count": null,
      "outputs": []
    },
    {
      "cell_type": "markdown",
      "source": [
        "## Hybrid Model"
      ],
      "metadata": {
        "id": "amSr7vM4wA0F"
      }
    },
    {
      "cell_type": "code",
      "execution_count": null,
      "metadata": {
        "colab": {
          "base_uri": "https://localhost:8080/",
          "height": 1000
        },
        "id": "NFDrn36EAK4k",
        "outputId": "fc2acb79-9af0-49e9-8054-3f502821b637"
      },
      "outputs": [
        {
          "output_type": "stream",
          "name": "stderr",
          "text": [
            "/usr/local/lib/python3.10/dist-packages/keras/src/layers/core/dense.py:87: UserWarning: Do not pass an `input_shape`/`input_dim` argument to a layer. When using Sequential models, prefer using an `Input(shape)` object as the first layer in the model instead.\n",
            "  super().__init__(activity_regularizer=activity_regularizer, **kwargs)\n"
          ]
        },
        {
          "output_type": "stream",
          "name": "stdout",
          "text": [
            "Epoch 1/200\n",
            "\u001b[1m22/22\u001b[0m \u001b[32m━━━━━━━━━━━━━━━━━━━━\u001b[0m\u001b[37m\u001b[0m \u001b[1m37s\u001b[0m 240ms/step - loss: 13.1394 - root_mean_squared_error: 3.5509 - val_loss: 242.1732 - val_root_mean_squared_error: 15.5618\n",
            "Epoch 2/200\n",
            "\u001b[1m22/22\u001b[0m \u001b[32m━━━━━━━━━━━━━━━━━━━━\u001b[0m\u001b[37m\u001b[0m \u001b[1m0s\u001b[0m 7ms/step - loss: 2.7743 - root_mean_squared_error: 1.6626 - val_loss: 46.3569 - val_root_mean_squared_error: 6.8083\n",
            "Epoch 3/200\n",
            "\u001b[1m22/22\u001b[0m \u001b[32m━━━━━━━━━━━━━━━━━━━━\u001b[0m\u001b[37m\u001b[0m \u001b[1m0s\u001b[0m 7ms/step - loss: 1.6635 - root_mean_squared_error: 1.2880 - val_loss: 5.5242 - val_root_mean_squared_error: 2.3495\n",
            "Epoch 4/200\n",
            "\u001b[1m22/22\u001b[0m \u001b[32m━━━━━━━━━━━━━━━━━━━━\u001b[0m\u001b[37m\u001b[0m \u001b[1m0s\u001b[0m 7ms/step - loss: 1.3907 - root_mean_squared_error: 1.1773 - val_loss: 1.7027 - val_root_mean_squared_error: 1.3032\n",
            "Epoch 5/200\n",
            "\u001b[1m22/22\u001b[0m \u001b[32m━━━━━━━━━━━━━━━━━━━━\u001b[0m\u001b[37m\u001b[0m \u001b[1m0s\u001b[0m 8ms/step - loss: 1.1347 - root_mean_squared_error: 1.0626 - val_loss: 1.3365 - val_root_mean_squared_error: 1.1541\n",
            "Epoch 6/200\n",
            "\u001b[1m22/22\u001b[0m \u001b[32m━━━━━━━━━━━━━━━━━━━━\u001b[0m\u001b[37m\u001b[0m \u001b[1m0s\u001b[0m 8ms/step - loss: 1.1310 - root_mean_squared_error: 1.0605 - val_loss: 1.1281 - val_root_mean_squared_error: 1.0600\n",
            "Epoch 7/200\n",
            "\u001b[1m22/22\u001b[0m \u001b[32m━━━━━━━━━━━━━━━━━━━━\u001b[0m\u001b[37m\u001b[0m \u001b[1m0s\u001b[0m 8ms/step - loss: 1.0512 - root_mean_squared_error: 1.0214 - val_loss: 0.9489 - val_root_mean_squared_error: 0.9718\n",
            "Epoch 8/200\n",
            "\u001b[1m22/22\u001b[0m \u001b[32m━━━━━━━━━━━━━━━━━━━━\u001b[0m\u001b[37m\u001b[0m \u001b[1m0s\u001b[0m 7ms/step - loss: 0.9320 - root_mean_squared_error: 0.9627 - val_loss: 0.8980 - val_root_mean_squared_error: 0.9452\n",
            "Epoch 9/200\n",
            "\u001b[1m22/22\u001b[0m \u001b[32m━━━━━━━━━━━━━━━━━━━━\u001b[0m\u001b[37m\u001b[0m \u001b[1m0s\u001b[0m 6ms/step - loss: 0.9070 - root_mean_squared_error: 0.9497 - val_loss: 1.1319 - val_root_mean_squared_error: 1.0617\n",
            "Epoch 10/200\n",
            "\u001b[1m22/22\u001b[0m \u001b[32m━━━━━━━━━━━━━━━━━━━━\u001b[0m\u001b[37m\u001b[0m \u001b[1m0s\u001b[0m 6ms/step - loss: 0.9228 - root_mean_squared_error: 0.9558 - val_loss: 0.9030 - val_root_mean_squared_error: 0.9478\n",
            "Epoch 11/200\n",
            "\u001b[1m22/22\u001b[0m \u001b[32m━━━━━━━━━━━━━━━━━━━━\u001b[0m\u001b[37m\u001b[0m \u001b[1m0s\u001b[0m 8ms/step - loss: 0.8763 - root_mean_squared_error: 0.9331 - val_loss: 0.8929 - val_root_mean_squared_error: 0.9425\n",
            "Epoch 12/200\n",
            "\u001b[1m22/22\u001b[0m \u001b[32m━━━━━━━━━━━━━━━━━━━━\u001b[0m\u001b[37m\u001b[0m \u001b[1m0s\u001b[0m 6ms/step - loss: 0.7389 - root_mean_squared_error: 0.8547 - val_loss: 0.9438 - val_root_mean_squared_error: 0.9691\n",
            "Epoch 13/200\n",
            "\u001b[1m22/22\u001b[0m \u001b[32m━━━━━━━━━━━━━━━━━━━━\u001b[0m\u001b[37m\u001b[0m \u001b[1m0s\u001b[0m 7ms/step - loss: 0.7135 - root_mean_squared_error: 0.8370 - val_loss: 0.8761 - val_root_mean_squared_error: 0.9334\n",
            "Epoch 14/200\n",
            "\u001b[1m22/22\u001b[0m \u001b[32m━━━━━━━━━━━━━━━━━━━━\u001b[0m\u001b[37m\u001b[0m \u001b[1m0s\u001b[0m 6ms/step - loss: 0.7618 - root_mean_squared_error: 0.8698 - val_loss: 0.9399 - val_root_mean_squared_error: 0.9669\n",
            "Epoch 15/200\n",
            "\u001b[1m22/22\u001b[0m \u001b[32m━━━━━━━━━━━━━━━━━━━━\u001b[0m\u001b[37m\u001b[0m \u001b[1m0s\u001b[0m 6ms/step - loss: 0.7129 - root_mean_squared_error: 0.8396 - val_loss: 0.9354 - val_root_mean_squared_error: 0.9645\n",
            "Epoch 16/200\n",
            "\u001b[1m22/22\u001b[0m \u001b[32m━━━━━━━━━━━━━━━━━━━━\u001b[0m\u001b[37m\u001b[0m \u001b[1m0s\u001b[0m 6ms/step - loss: 0.7880 - root_mean_squared_error: 0.8836 - val_loss: 0.9832 - val_root_mean_squared_error: 0.9889\n",
            "Epoch 17/200\n",
            "\u001b[1m22/22\u001b[0m \u001b[32m━━━━━━━━━━━━━━━━━━━━\u001b[0m\u001b[37m\u001b[0m \u001b[1m0s\u001b[0m 6ms/step - loss: 0.7147 - root_mean_squared_error: 0.8407 - val_loss: 1.0201 - val_root_mean_squared_error: 1.0073\n",
            "Epoch 18/200\n",
            "\u001b[1m22/22\u001b[0m \u001b[32m━━━━━━━━━━━━━━━━━━━━\u001b[0m\u001b[37m\u001b[0m \u001b[1m0s\u001b[0m 6ms/step - loss: 0.7929 - root_mean_squared_error: 0.8822 - val_loss: 0.9781 - val_root_mean_squared_error: 0.9861\n",
            "Epoch 19/200\n",
            "\u001b[1m22/22\u001b[0m \u001b[32m━━━━━━━━━━━━━━━━━━━━\u001b[0m\u001b[37m\u001b[0m \u001b[1m0s\u001b[0m 6ms/step - loss: 0.6869 - root_mean_squared_error: 0.8251 - val_loss: 1.0329 - val_root_mean_squared_error: 1.0134\n",
            "Epoch 20/200\n",
            "\u001b[1m22/22\u001b[0m \u001b[32m━━━━━━━━━━━━━━━━━━━━\u001b[0m\u001b[37m\u001b[0m \u001b[1m0s\u001b[0m 6ms/step - loss: 0.6205 - root_mean_squared_error: 0.7807 - val_loss: 0.9450 - val_root_mean_squared_error: 0.9690\n",
            "Epoch 21/200\n",
            "\u001b[1m22/22\u001b[0m \u001b[32m━━━━━━━━━━━━━━━━━━━━\u001b[0m\u001b[37m\u001b[0m \u001b[1m0s\u001b[0m 6ms/step - loss: 0.6883 - root_mean_squared_error: 0.8250 - val_loss: 0.9342 - val_root_mean_squared_error: 0.9633\n",
            "Epoch 22/200\n",
            "\u001b[1m22/22\u001b[0m \u001b[32m━━━━━━━━━━━━━━━━━━━━\u001b[0m\u001b[37m\u001b[0m \u001b[1m0s\u001b[0m 6ms/step - loss: 0.6114 - root_mean_squared_error: 0.7769 - val_loss: 0.9602 - val_root_mean_squared_error: 0.9765\n",
            "Epoch 23/200\n",
            "\u001b[1m22/22\u001b[0m \u001b[32m━━━━━━━━━━━━━━━━━━━━\u001b[0m\u001b[37m\u001b[0m \u001b[1m0s\u001b[0m 7ms/step - loss: 0.7431 - root_mean_squared_error: 0.8568 - val_loss: 0.9816 - val_root_mean_squared_error: 0.9872\n"
          ]
        },
        {
          "output_type": "stream",
          "name": "stderr",
          "text": [
            "WARNING:tensorflow:5 out of the last 9 calls to <function TensorFlowTrainer.make_predict_function.<locals>.one_step_on_data_distributed at 0x79095c1f13f0> triggered tf.function retracing. Tracing is expensive and the excessive number of tracings could be due to (1) creating @tf.function repeatedly in a loop, (2) passing tensors with different shapes, (3) passing Python objects instead of tensors. For (1), please define your @tf.function outside of the loop. For (2), @tf.function has reduce_retracing=True option that can avoid unnecessary retracing. For (3), please refer to https://www.tensorflow.org/guide/function#controlling_retracing and https://www.tensorflow.org/api_docs/python/tf/function for  more details.\n"
          ]
        },
        {
          "output_type": "stream",
          "name": "stdout",
          "text": [
            "\u001b[1m6/6\u001b[0m \u001b[32m━━━━━━━━━━━━━━━━━━━━\u001b[0m\u001b[37m\u001b[0m \u001b[1m1s\u001b[0m 153ms/step\n",
            "MSE: 0.8712826\n",
            "RMSE: 0.9334252\n"
          ]
        },
        {
          "output_type": "display_data",
          "data": {
            "text/plain": [
              "<Figure size 640x480 with 1 Axes>"
            ],
            "image/png": "[encoded data removed]"
          },
          "metadata": {}
        },
        {
          "output_type": "display_data",
          "data": {
            "text/plain": [
              "<Figure size 640x480 with 1 Axes>"
            ],
            "image/png": "[encoded data removed]"
          },
          "metadata": {}
        },
        {
          "output_type": "display_data",
          "data": {
            "text/plain": [
              "\u001b[1mModel: \"functional_7\"\u001b[0m\n"
            ],
            "text/html": [
              "<pre style=\"white-space:pre;overflow-x:auto;line-height:normal;font-family:Menlo,'DejaVu Sans Mono',consolas,'Courier New',monospace\"><span style=\"font-weight: bold\">Model: \"functional_7\"</span>\n",
              "</pre>\n"
            ]
          },
          "metadata": {}
        },
        {
          "output_type": "display_data",
          "data": {
            "text/plain": [
              "┏━━━━━━━━━━━━━━━━━━━━━━━━━━━━━━━━━━━━━━┳━━━━━━━━━━━━━━━━━━━━━━━━━━━━━┳━━━━━━━━━━━━━━━━━┓\n",
              "┃\u001b[1m \u001b[0m\u001b[1mLayer (type)                        \u001b[0m\u001b[1m \u001b[0m┃\u001b[1m \u001b[0m\u001b[1mOutput Shape               \u001b[0m\u001b[1m \u001b[0m┃\u001b[1m \u001b[0m\u001b[1m        Param #\u001b[0m\u001b[1m \u001b[0m┃\n",
              "┡━━━━━━━━━━━━━━━━━━━━━━━━━━━━━━━━━━━━━━╇━━━━━━━━━━━━━━━━━━━━━━━━━━━━━╇━━━━━━━━━━━━━━━━━┩\n",
              "│ input_layer_3 (\u001b[38;5;33mInputLayer\u001b[0m)           │ (\u001b[38;5;45mNone\u001b[0m, \u001b[38;5;34m7063\u001b[0m)                │               \u001b[38;5;34m0\u001b[0m │\n",
              "├──────────────────────────────────────┼─────────────────────────────┼─────────────────┤\n",
              "│ ensemble_model (\u001b[38;5;33mEnsembleModel\u001b[0m)       │ (\u001b[38;5;45mNone\u001b[0m, \u001b[38;5;34m1\u001b[0m)                   │       \u001b[38;5;34m3,869,381\u001b[0m │\n",
              "└──────────────────────────────────────┴─────────────────────────────┴─────────────────┘\n"
            ],
            "text/html": [
              "<pre style=\"white-space:pre;overflow-x:auto;line-height:normal;font-family:Menlo,'DejaVu Sans Mono',consolas,'Courier New',monospace\">┏━━━━━━━━━━━━━━━━━━━━━━━━━━━━━━━━━━━━━━┳━━━━━━━━━━━━━━━━━━━━━━━━━━━━━┳━━━━━━━━━━━━━━━━━┓\n",
              "┃<span style=\"font-weight: bold\"> Layer (type)                         </span>┃<span style=\"font-weight: bold\"> Output Shape                </span>┃<span style=\"font-weight: bold\">         Param # </span>┃\n",
              "┡━━━━━━━━━━━━━━━━━━━━━━━━━━━━━━━━━━━━━━╇━━━━━━━━━━━━━━━━━━━━━━━━━━━━━╇━━━━━━━━━━━━━━━━━┩\n",
              "│ input_layer_3 (<span style=\"color: #0087ff; text-decoration-color: #0087ff\">InputLayer</span>)           │ (<span style=\"color: #00d7ff; text-decoration-color: #00d7ff\">None</span>, <span style=\"color: #00af00; text-decoration-color: #00af00\">7063</span>)                │               <span style=\"color: #00af00; text-decoration-color: #00af00\">0</span> │\n",
              "├──────────────────────────────────────┼─────────────────────────────┼─────────────────┤\n",
              "│ ensemble_model (<span style=\"color: #0087ff; text-decoration-color: #0087ff\">EnsembleModel</span>)       │ (<span style=\"color: #00d7ff; text-decoration-color: #00d7ff\">None</span>, <span style=\"color: #00af00; text-decoration-color: #00af00\">1</span>)                   │       <span style=\"color: #00af00; text-decoration-color: #00af00\">3,869,381</span> │\n",
              "└──────────────────────────────────────┴─────────────────────────────┴─────────────────┘\n",
              "</pre>\n"
            ]
          },
          "metadata": {}
        },
        {
          "output_type": "display_data",
          "data": {
            "text/plain": [
              "\u001b[1m Total params: \u001b[0m\u001b[38;5;34m11,604,177\u001b[0m (44.27 MB)\n"
            ],
            "text/html": [
              "<pre style=\"white-space:pre;overflow-x:auto;line-height:normal;font-family:Menlo,'DejaVu Sans Mono',consolas,'Courier New',monospace\"><span style=\"font-weight: bold\"> Total params: </span><span style=\"color: #00af00; text-decoration-color: #00af00\">11,604,177</span> (44.27 MB)\n",
              "</pre>\n"
            ]
          },
          "metadata": {}
        },
        {
          "output_type": "display_data",
          "data": {
            "text/plain": [
              "\u001b[1m Trainable params: \u001b[0m\u001b[38;5;34m3,867,397\u001b[0m (14.75 MB)\n"
            ],
            "text/html": [
              "<pre style=\"white-space:pre;overflow-x:auto;line-height:normal;font-family:Menlo,'DejaVu Sans Mono',consolas,'Courier New',monospace\"><span style=\"font-weight: bold\"> Trainable params: </span><span style=\"color: #00af00; text-decoration-color: #00af00\">3,867,397</span> (14.75 MB)\n",
              "</pre>\n"
            ]
          },
          "metadata": {}
        },
        {
          "output_type": "display_data",
          "data": {
            "text/plain": [
              "\u001b[1m Non-trainable params: \u001b[0m\u001b[38;5;34m1,984\u001b[0m (7.75 KB)\n"
            ],
            "text/html": [
              "<pre style=\"white-space:pre;overflow-x:auto;line-height:normal;font-family:Menlo,'DejaVu Sans Mono',consolas,'Courier New',monospace\"><span style=\"font-weight: bold\"> Non-trainable params: </span><span style=\"color: #00af00; text-decoration-color: #00af00\">1,984</span> (7.75 KB)\n",
              "</pre>\n"
            ]
          },
          "metadata": {}
        },
        {
          "output_type": "display_data",
          "data": {
            "text/plain": [
              "\u001b[1m Optimizer params: \u001b[0m\u001b[38;5;34m7,734,796\u001b[0m (29.51 MB)\n"
            ],
            "text/html": [
              "<pre style=\"white-space:pre;overflow-x:auto;line-height:normal;font-family:Menlo,'DejaVu Sans Mono',consolas,'Courier New',monospace\"><span style=\"font-weight: bold\"> Optimizer params: </span><span style=\"color: #00af00; text-decoration-color: #00af00\">7,734,796</span> (29.51 MB)\n",
              "</pre>\n"
            ]
          },
          "metadata": {}
        }
      ],
      "source": [
        "# Define ensemble model\n",
        "class EnsembleModel(tf.keras.Model):\n",
        "    def __init__(self, model_collab, model_content, **kwargs):\n",
        "        super(EnsembleModel, self).__init__(**kwargs)\n",
        "        self.model_collab = model_collab\n",
        "        self.model_content = model_content\n",
        "        self.final_layer = tf.keras.layers.Dense(1, activation='linear')\n",
        "\n",
        "    def call(self, inputs):\n",
        "        collab_input = inputs[:, :2]  # user_id and place_id for model_collab\n",
        "        content_input = inputs[:, 2:]  # feature data for model_content\n",
        "        collab_output = self.model_collab(collab_input)\n",
        "        content_output = self.model_content(content_input)\n",
        "        combined = tf.concat([collab_output, content_output], axis=1)\n",
        "        output = self.final_layer(combined)\n",
        "        return output\n",
        "\n",
        "# Prepare data for hybrid model\n",
        "train_tfidf = tfidf_matrix[train_df['place_id'].values].toarray()\n",
        "test_tfidf = tfidf_matrix[test_df['place_id'].values].toarray()\n",
        "train_data_hybrid = np.concatenate([train_df[['user_id', 'place_id']].values, train_tfidf], axis=1)\n",
        "test_data_hybrid = np.concatenate([test_df[['user_id', 'place_id']].values, test_tfidf], axis=1)\n",
        "\n",
        "# Instantiate the collaborative and content models\n",
        "num_users = len(user_ids)\n",
        "num_places = len(place_ids)\n",
        "embedding_size = 50\n",
        "num_features = train_tfidf_matrix.shape[1]\n",
        "\n",
        "model_collab = CollabModel(num_users, num_places, embedding_size)\n",
        "model_content = ContentModel(num_features)\n",
        "\n",
        "# Define early stopping callback\n",
        "early_stopping = tf.keras.callbacks.EarlyStopping(monitor='val_loss', patience=10, restore_best_weights=True)\n",
        "\n",
        "# Define input layers\n",
        "input_shape = (train_data.shape[1],)\n",
        "hybrid_inputs = tf.keras.layers.Input(shape=input_shape)\n",
        "\n",
        "# Define the ensemble model using the defined input layers\n",
        "hybrid_outputs = EnsembleModel(model_collab, model_content)(hybrid_inputs)\n",
        "\n",
        "hybrid_model = tf.keras.Model(inputs=hybrid_inputs, outputs=hybrid_outputs)\n",
        "hybrid_model.compile(\n",
        "    optimizer=tf.keras.optimizers.Adam(learning_rate=0.01),\n",
        "    loss='mean_squared_error',\n",
        "    metrics=[tf.keras.metrics.RootMeanSquaredError()]\n",
        ")\n",
        "\n",
        "# Train the ensemble model\n",
        "history_hybrid = hybrid_model.fit(\n",
        "    x=train_data,\n",
        "    y=train_labels,\n",
        "    epochs=200,\n",
        "    batch_size=32,\n",
        "    verbose=1,\n",
        "    validation_data=(test_data, test_labels),\n",
        "    callbacks=[early_stopping]\n",
        ")\n",
        "\n",
        "# Evaluate the model\n",
        "y_pred = hybrid_model.predict(test_data).flatten()\n",
        "mse = tf.keras.losses.MeanSquaredError()(test_labels, y_pred).numpy()\n",
        "rmse = np.sqrt(mse)\n",
        "print(\"MSE:\", mse)\n",
        "print(\"RMSE:\", rmse)\n",
        "\n",
        "# Plot the loss\n",
        "import matplotlib.pyplot as plt\n",
        "\n",
        "plt.plot(history_hybrid.history['loss'], label='Training Loss')\n",
        "plt.plot(history_hybrid.history['val_loss'], label='Validation Loss')\n",
        "plt.xlabel('Epoch')\n",
        "plt.ylabel('Loss')\n",
        "plt.legend()\n",
        "plt.show()\n",
        "\n",
        "# Plot true vs predicted ratings\n",
        "plt.scatter(test_labels, y_pred)\n",
        "plt.xlabel('True Ratings')\n",
        "plt.ylabel('Predicted Ratings')\n",
        "plt.title('True vs Predicted Ratings')\n",
        "plt.show()\n",
        "\n",
        "# Display model summary\n",
        "hybrid_model.build(input_shape=(None, 2))\n",
        "hybrid_model.summary()\n"
      ]
    },
    {
      "cell_type": "code",
      "execution_count": null,
      "metadata": {
        "colab": {
          "base_uri": "https://localhost:8080/"
        },
        "id": "ritArNfg-8GC",
        "outputId": "6f58d8f3-8ddb-42f5-b6b9-286b6cb9aaac"
      },
      "outputs": [
        {
          "output_type": "stream",
          "name": "stdout",
          "text": [
            "\u001b[1m6/6\u001b[0m \u001b[32m━━━━━━━━━━━━━━━━━━━━\u001b[0m\u001b[37m\u001b[0m \u001b[1m0s\u001b[0m 3ms/step \n",
            "Hybrid MSE: 0.8712826297948136\n",
            "Hybrid RMSE: 0.9334252138199469\n"
          ]
        }
      ],
      "source": [
        "# Evaluation\n",
        "test_pred = hybrid_model.predict(test_data).flatten()\n",
        "mse = mean_squared_error(test_labels, test_pred)\n",
        "rmse = np.sqrt(mse)\n",
        "print(\"Hybrid MSE:\", mse)\n",
        "print(\"Hybrid RMSE:\", rmse)"
      ]
    },
    {
      "cell_type": "markdown",
      "source": [
        "# Model Testing"
      ],
      "metadata": {
        "id": "rlCM_gjPwGfj"
      }
    },
    {
      "cell_type": "code",
      "execution_count": null,
      "metadata": {
        "colab": {
          "base_uri": "https://localhost:8080/"
        },
        "id": "G4Un9xB0Pwz1",
        "outputId": "9844d4c1-ed95-4618-dbf0-ef58bea77e11"
      },
      "outputs": [
        {
          "output_type": "stream",
          "name": "stdout",
          "text": [
            "\u001b[1m4/4\u001b[0m \u001b[32m━━━━━━━━━━━━━━━━━━━━\u001b[0m\u001b[37m\u001b[0m \u001b[1m0s\u001b[0m 3ms/step \n",
            "Recommended places for user_id 15 :\n",
            "1. Javanegra Gourmet Atelier & Taverna 212 (ID: 48)\n",
            "2. Jakarta Restaurant (ID: 37)\n",
            "3. Plataran Dharmawangsa (ID: 9)\n",
            "4. Central Park Restaurant (ID: 104)\n",
            "5. Bluegrass Bar & Grill (ID: 6)\n"
          ]
        }
      ],
      "source": [
        "# Define a function to get restaurant name from place_id\n",
        "def get_restaurant_name(place_id):\n",
        "    place_row = merged_df[merged_df['place_id'] == place_id]\n",
        "    if not place_row.empty:\n",
        "        return place_row.iloc[0]['place_name']  # Adjust column name if different\n",
        "    else:\n",
        "        return \"Unknown Place\"\n",
        "\n",
        "# Get recommendations\n",
        "def get_hybrid_recommendations(user_id, top_n=5):\n",
        "    user_index = user_id2idx.get(user_id)\n",
        "    if user_index is None:\n",
        "        raise ValueError(\"User ID not found\")\n",
        "\n",
        "    # Get TF-IDF vectors for all places\n",
        "    place_tfidf = tfidf_matrix.toarray()\n",
        "\n",
        "    # Prepare input data for the user\n",
        "    user_input = np.array([[user_index, place_id2idx[place_id]] for place_id in place_ids])\n",
        "    hybrid_input = np.concatenate([user_input, place_tfidf], axis=1)\n",
        "\n",
        "    # Get predictions from hybrid model\n",
        "    predictions = hybrid_model.predict(hybrid_input).flatten()\n",
        "\n",
        "    # Get top N recommendations\n",
        "    top_indices = predictions.argsort()[-top_n:][::-1]\n",
        "    recommended_places = [place_ids[idx] for idx in top_indices]\n",
        "\n",
        "    return recommended_places\n",
        "\n",
        "# Test hybrid recommendations with the defined function\n",
        "user_id = 15  # Replace with the desired user_id\n",
        "recommended_places = get_hybrid_recommendations(user_id)\n",
        "print(\"Recommended places for user_id\", user_id, \":\")\n",
        "for i, place_id in enumerate(recommended_places, 1):\n",
        "    place_name = get_restaurant_name(place_id)\n",
        "    print(f\"{i}. {place_name} (ID: {place_id})\")"
      ]
    },
    {
      "cell_type": "markdown",
      "source": [
        "# Deploy Model"
      ],
      "metadata": {
        "id": "Z7dceSdZwOgs"
      }
    },
    {
      "cell_type": "code",
      "execution_count": null,
      "metadata": {
        "id": "-NdShg12ONJS",
        "colab": {
          "base_uri": "https://localhost:8080/"
        },
        "outputId": "59e1952a-af49-4709-c081-3f11242f43d4"
      },
      "outputs": [
        {
          "output_type": "stream",
          "name": "stderr",
          "text": [
            "WARNING:absl:You are saving your model as an HDF5 file via `model.save()` or `keras.saving.save_model(model)`. This file format is considered legacy. We recommend using instead the native Keras format, e.g. `model.save('my_model.keras')` or `keras.saving.save_model(model, 'my_model.keras')`. \n"
          ]
        }
      ],
      "source": [
        "saved_model_path = \"./my_model.h5\"\n",
        "\n",
        "hybrid_model.save(saved_model_path)"
      ]
    },
    {
      "cell_type": "code",
      "execution_count": null,
      "metadata": {
        "colab": {
          "base_uri": "https://localhost:8080/"
        },
        "id": "MexoONRVOOtu",
        "outputId": "996edd46-ac2c-4d37-a5bb-7be00c4b0911"
      },
      "outputs": [
        {
          "output_type": "stream",
          "name": "stdout",
          "text": [
            "2024-06-15 16:06:19.405629: W tensorflow/compiler/tf2tensorrt/utils/py_utils.cc:38] TF-TRT Warning: Could not find TensorRT\n",
            "failed to lookup keras version from the file,\n",
            "    this is likely a weight only file\n"
          ]
        }
      ],
      "source": [
        "!tensorflowjs_converter --input_format=keras {saved_model_path} ./"
      ]
    },
    {
      "cell_type": "code",
      "source": [],
      "metadata": {
        "id": "Oz6psDhzSePR"
      },
      "execution_count": null,
      "outputs": []
    }
  ],
  "metadata": {
    "accelerator": "GPU",
    "colab": {
      "gpuType": "T4",
      "provenance": []
    },
    "kernelspec": {
      "display_name": "Python 3",
      "name": "python3"
    },
    "language_info": {
      "name": "python"
    }
  },
  "nbformat": 4,
  "nbformat_minor": 0
}